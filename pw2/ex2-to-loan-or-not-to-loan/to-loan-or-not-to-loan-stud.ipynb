{
 "cells": [
  {
   "metadata": {},
   "cell_type": "markdown",
   "source": "",
   "id": "673f3ef5b55f97cc"
  },
  {
   "metadata": {},
   "cell_type": "markdown",
   "source": "##### Authors: Rafael Dousse, Eva Ray, Massimo Stefani",
   "id": "7177c9ce99aa2dc2"
  },
  {
   "cell_type": "markdown",
   "id": "5da8da61",
   "metadata": {},
   "source": [
    "# Exercice 2: Classification system with KNN - To Loan or Not To Loan"
   ]
  },
  {
   "cell_type": "markdown",
   "id": "9669e493",
   "metadata": {},
   "source": [
    "## Imports"
   ]
  },
  {
   "cell_type": "markdown",
   "id": "22bbd869",
   "metadata": {},
   "source": [
    "Import some useful libraries"
   ]
  },
  {
   "cell_type": "code",
   "id": "26758936",
   "metadata": {
    "ExecuteTime": {
     "end_time": "2025-09-27T11:47:21.986404Z",
     "start_time": "2025-09-27T11:47:21.982469Z"
    }
   },
   "source": [
    "import pandas as pd\n",
    "import numpy as np\n",
    "from sklearn.preprocessing import OrdinalEncoder, StandardScaler\n",
    "from sklearn.model_selection import train_test_split"
   ],
   "outputs": [],
   "execution_count": 313
  },
  {
   "cell_type": "markdown",
   "id": "abc131ca",
   "metadata": {},
   "source": [
    "## a. Getting started"
   ]
  },
  {
   "cell_type": "markdown",
   "id": "45b518e5",
   "metadata": {},
   "source": [
    "### Data loading"
   ]
  },
  {
   "cell_type": "markdown",
   "id": "1ef061f2",
   "metadata": {},
   "source": [
    "The original dataset comes from the Kaggle's [Loan Prediction](https://www.kaggle.com/ninzaami/loan-predication) problem. The provided dataset has already undergone some processing, such as removing some columns and invalid data. Pandas is used to read the CSV file."
   ]
  },
  {
   "cell_type": "code",
   "id": "a23f62b5",
   "metadata": {
    "ExecuteTime": {
     "end_time": "2025-09-27T11:47:22.066959Z",
     "start_time": "2025-09-27T11:47:21.995037Z"
    }
   },
   "source": [
    "url = \"https://raw.githubusercontent.com/evarayHEIG/machle_labs/main/pw2/ex2-to-loan-or-not-to-loan/loandata.csv\"\n",
    "data = pd.read_csv(url)"
   ],
   "outputs": [],
   "execution_count": 314
  },
  {
   "cell_type": "markdown",
   "id": "02ca77c7",
   "metadata": {},
   "source": [
    "Display the head of the data."
   ]
  },
  {
   "cell_type": "code",
   "id": "f4bec500",
   "metadata": {
    "ExecuteTime": {
     "end_time": "2025-09-27T11:47:22.082498Z",
     "start_time": "2025-09-27T11:47:22.074455Z"
    }
   },
   "source": [
    "data.head()"
   ],
   "outputs": [
    {
     "data": {
      "text/plain": [
       "  Gender Married     Education  TotalIncome  LoanAmount  CreditHistory  \\\n",
       "0   Male     Yes      Graduate       6091.0       128.0            1.0   \n",
       "1   Male     Yes      Graduate       3000.0        66.0            1.0   \n",
       "2   Male     Yes  Not Graduate       4941.0       120.0            1.0   \n",
       "3   Male      No      Graduate       6000.0       141.0            1.0   \n",
       "4   Male     Yes      Graduate       9613.0       267.0            1.0   \n",
       "\n",
       "  LoanStatus  \n",
       "0          N  \n",
       "1          Y  \n",
       "2          Y  \n",
       "3          Y  \n",
       "4          Y  "
      ],
      "text/html": [
       "<div>\n",
       "<style scoped>\n",
       "    .dataframe tbody tr th:only-of-type {\n",
       "        vertical-align: middle;\n",
       "    }\n",
       "\n",
       "    .dataframe tbody tr th {\n",
       "        vertical-align: top;\n",
       "    }\n",
       "\n",
       "    .dataframe thead th {\n",
       "        text-align: right;\n",
       "    }\n",
       "</style>\n",
       "<table border=\"1\" class=\"dataframe\">\n",
       "  <thead>\n",
       "    <tr style=\"text-align: right;\">\n",
       "      <th></th>\n",
       "      <th>Gender</th>\n",
       "      <th>Married</th>\n",
       "      <th>Education</th>\n",
       "      <th>TotalIncome</th>\n",
       "      <th>LoanAmount</th>\n",
       "      <th>CreditHistory</th>\n",
       "      <th>LoanStatus</th>\n",
       "    </tr>\n",
       "  </thead>\n",
       "  <tbody>\n",
       "    <tr>\n",
       "      <th>0</th>\n",
       "      <td>Male</td>\n",
       "      <td>Yes</td>\n",
       "      <td>Graduate</td>\n",
       "      <td>6091.0</td>\n",
       "      <td>128.0</td>\n",
       "      <td>1.0</td>\n",
       "      <td>N</td>\n",
       "    </tr>\n",
       "    <tr>\n",
       "      <th>1</th>\n",
       "      <td>Male</td>\n",
       "      <td>Yes</td>\n",
       "      <td>Graduate</td>\n",
       "      <td>3000.0</td>\n",
       "      <td>66.0</td>\n",
       "      <td>1.0</td>\n",
       "      <td>Y</td>\n",
       "    </tr>\n",
       "    <tr>\n",
       "      <th>2</th>\n",
       "      <td>Male</td>\n",
       "      <td>Yes</td>\n",
       "      <td>Not Graduate</td>\n",
       "      <td>4941.0</td>\n",
       "      <td>120.0</td>\n",
       "      <td>1.0</td>\n",
       "      <td>Y</td>\n",
       "    </tr>\n",
       "    <tr>\n",
       "      <th>3</th>\n",
       "      <td>Male</td>\n",
       "      <td>No</td>\n",
       "      <td>Graduate</td>\n",
       "      <td>6000.0</td>\n",
       "      <td>141.0</td>\n",
       "      <td>1.0</td>\n",
       "      <td>Y</td>\n",
       "    </tr>\n",
       "    <tr>\n",
       "      <th>4</th>\n",
       "      <td>Male</td>\n",
       "      <td>Yes</td>\n",
       "      <td>Graduate</td>\n",
       "      <td>9613.0</td>\n",
       "      <td>267.0</td>\n",
       "      <td>1.0</td>\n",
       "      <td>Y</td>\n",
       "    </tr>\n",
       "  </tbody>\n",
       "</table>\n",
       "</div>"
      ]
     },
     "execution_count": 315,
     "metadata": {},
     "output_type": "execute_result"
    }
   ],
   "execution_count": 315
  },
  {
   "cell_type": "markdown",
   "id": "e271b475",
   "metadata": {},
   "source": [
    "Data's columns:\n",
    "* **Gender:** Applicant gender (Male/ Female)\n",
    "* **Married:** Is the Applicant married? (Y/N)\n",
    "* **Education:** Applicant Education (Graduate/ Not Graduate)\n",
    "* **TotalIncome:** Applicant total income (sum of `ApplicantIncome` and `CoapplicantIncome` columns in the original dataset)\n",
    "* **LoanAmount:** Loan amount in thousands\n",
    "* **CreditHistory:** Credit history meets guidelines\n",
    "* **LoanStatus** (Target)**:** Loan approved (Y/N)"
   ]
  },
  {
   "cell_type": "markdown",
   "id": "702ce4e6",
   "metadata": {},
   "source": [
    "### Data preprocessing"
   ]
  },
  {
   "cell_type": "markdown",
   "id": "7fce724c",
   "metadata": {},
   "source": [
    "Define a list of categorical columns to encode."
   ]
  },
  {
   "cell_type": "code",
   "id": "2c56efa5",
   "metadata": {
    "ExecuteTime": {
     "end_time": "2025-09-27T11:47:22.131275Z",
     "start_time": "2025-09-27T11:47:22.128245Z"
    }
   },
   "source": [
    "categorical_columns = [\"Gender\", \"Married\", \"Education\", \"LoanStatus\"]"
   ],
   "outputs": [],
   "execution_count": 316
  },
  {
   "cell_type": "markdown",
   "id": "d8915a68",
   "metadata": {},
   "source": [
    "Encode categorical columns using the [`OrdinalEncoder`](https://scikit-learn.org/stable/modules/generated/sklearn.preprocessing.OrdinalEncoder.html) of scikit learn."
   ]
  },
  {
   "cell_type": "code",
   "id": "dc5f9cda",
   "metadata": {
    "ExecuteTime": {
     "end_time": "2025-09-27T11:47:22.209467Z",
     "start_time": "2025-09-27T11:47:22.204639Z"
    }
   },
   "source": [
    "data[categorical_columns] = OrdinalEncoder().fit_transform(data[categorical_columns])"
   ],
   "outputs": [],
   "execution_count": 317
  },
  {
   "cell_type": "markdown",
   "id": "df9c84b4",
   "metadata": {},
   "source": [
    "Split into `X` and `y`."
   ]
  },
  {
   "cell_type": "code",
   "id": "83beacfb",
   "metadata": {
    "ExecuteTime": {
     "end_time": "2025-09-27T11:47:22.236338Z",
     "start_time": "2025-09-27T11:47:22.232221Z"
    }
   },
   "source": [
    "X = data.drop(columns=\"LoanStatus\")\n",
    "y = data.LoanStatus"
   ],
   "outputs": [],
   "execution_count": 318
  },
  {
   "cell_type": "markdown",
   "id": "e25c8f24",
   "metadata": {},
   "source": [
    "Normalize data using the [`StandardScaler`](https://scikit-learn.org/stable/modules/generated/sklearn.preprocessing.StandardScaler.html) of scikit learn."
   ]
  },
  {
   "cell_type": "code",
   "id": "9c567bb7",
   "metadata": {
    "ExecuteTime": {
     "end_time": "2025-09-27T11:47:22.264456Z",
     "start_time": "2025-09-27T11:47:22.256596Z"
    }
   },
   "source": [
    "X[X.columns] = StandardScaler().fit_transform(X[X.columns])"
   ],
   "outputs": [],
   "execution_count": 319
  },
  {
   "cell_type": "markdown",
   "id": "7437ea21",
   "metadata": {},
   "source": [
    "Convert `y` type to `int` "
   ]
  },
  {
   "cell_type": "code",
   "id": "c0db7c1f",
   "metadata": {
    "ExecuteTime": {
     "end_time": "2025-09-27T11:47:22.274544Z",
     "start_time": "2025-09-27T11:47:22.271433Z"
    }
   },
   "source": [
    "y = y.astype(int)"
   ],
   "outputs": [],
   "execution_count": 320
  },
  {
   "cell_type": "markdown",
   "id": "6d1d1f10",
   "metadata": {},
   "source": [
    "Split dataset into train and test sets."
   ]
  },
  {
   "cell_type": "code",
   "id": "b05be2cc",
   "metadata": {
    "ExecuteTime": {
     "end_time": "2025-09-27T11:47:22.286387Z",
     "start_time": "2025-09-27T11:47:22.280829Z"
    }
   },
   "source": [
    "X_train, X_test, y_train, y_test = train_test_split(X, y, stratify=y, test_size=0.2, random_state=42)"
   ],
   "outputs": [],
   "execution_count": 321
  },
  {
   "cell_type": "markdown",
   "id": "8f6d3ce6",
   "metadata": {},
   "source": [
    "## b. Dummy classifier"
   ]
  },
  {
   "cell_type": "markdown",
   "id": "80ec4058",
   "metadata": {},
   "source": [
    "Build a dummy classifier that takes decisions randomly."
   ]
  },
  {
   "cell_type": "code",
   "id": "30919672",
   "metadata": {
    "ExecuteTime": {
     "end_time": "2025-09-27T11:47:22.295812Z",
     "start_time": "2025-09-27T11:47:22.292054Z"
    }
   },
   "source": [
    "class DummyClassifier():\n",
    "    \n",
    "    def __init__(self):\n",
    "        \"\"\"\n",
    "        Initialize the class.\n",
    "        \"\"\"\n",
    "        self.X_train = None\n",
    "        self.y_train = None\n",
    "    \n",
    "    def fit(self, X, y):\n",
    "        \"\"\"\n",
    "        Fit the dummy classifier.\n",
    "        \n",
    "        Parameters\n",
    "        ----------\n",
    "        X : Numpy array or Pandas DataFrame of shape (n_samples, n_features)\n",
    "            Training data.\n",
    "        y : Numpy array or Pandas DataFrame of shape (n_samples,)\n",
    "            Target values.\n",
    "        \"\"\"\n",
    "        self.X_train = X\n",
    "        self.y_train = y\n",
    "    \n",
    "    def predict(self, X):\n",
    "        \"\"\"\n",
    "        Predict the class labels for the provided data.\n",
    "\n",
    "        Parameters\n",
    "        ----------\n",
    "        X : Numpy array or Pandas DataFrame of shape (n_queries, n_features)\n",
    "            Test samples.\n",
    "\n",
    "        Returns\n",
    "        -------\n",
    "        y : Numpy array or Pandas DataFrame of shape (n_queries,)\n",
    "            Class labels for each data sample.\n",
    "        \"\"\"\n",
    "        return np.random.choice(self.y_train.unique(), size=len(X))"
   ],
   "outputs": [],
   "execution_count": 322
  },
  {
   "cell_type": "markdown",
   "id": "1dd67c48",
   "metadata": {},
   "source": [
    "Implement a function to evaluate the performance of a classification by computing the accuracy ($N_{correct}/N$)."
   ]
  },
  {
   "cell_type": "code",
   "id": "184f3905",
   "metadata": {
    "ExecuteTime": {
     "end_time": "2025-09-27T11:47:22.303551Z",
     "start_time": "2025-09-27T11:47:22.301027Z"
    }
   },
   "source": [
    "def accuracy_score(y_true, y_pred):\n",
    "    return np.sum(y_true == y_pred) / len(y_true)"
   ],
   "outputs": [],
   "execution_count": 323
  },
  {
   "cell_type": "markdown",
   "id": "90dcae17",
   "metadata": {},
   "source": [
    "Compute the performance of the dummy classifier using the provided test set."
   ]
  },
  {
   "cell_type": "code",
   "id": "fa666b66",
   "metadata": {
    "ExecuteTime": {
     "end_time": "2025-09-27T11:47:22.317472Z",
     "start_time": "2025-09-27T11:47:22.311419Z"
    }
   },
   "source": [
    "dummy_class = DummyClassifier()\n",
    "dummy_class.fit(X_train, y_train)\n",
    "y_pred = dummy_class.predict(X_test)\n",
    "acc = accuracy_score(y_test, y_pred)\n",
    "print(f\"Dummy classifier accuracy: {acc:.2f}\")"
   ],
   "outputs": [
    {
     "name": "stdout",
     "output_type": "stream",
     "text": [
      "Dummy classifier accuracy: 0.48\n"
     ]
    }
   ],
   "execution_count": 324
  },
  {
   "cell_type": "markdown",
   "id": "9e10cd97",
   "metadata": {},
   "source": [
    "## c. K-Nearest Neighbors classifier"
   ]
  },
  {
   "cell_type": "markdown",
   "id": "70009457",
   "metadata": {},
   "source": [
    "Build a K-Nearest Neighbors classifier using an Euclidian distance computation and a simple majority voting criterion."
   ]
  },
  {
   "cell_type": "code",
   "id": "759e924e",
   "metadata": {
    "ExecuteTime": {
     "end_time": "2025-09-27T11:58:10.496681Z",
     "start_time": "2025-09-27T11:58:10.491329Z"
    }
   },
   "source": [
    "class KNNClassifier():\n",
    "    \n",
    "    def __init__(self, n_neighbors=3):\n",
    "        \"\"\"\n",
    "        Initialize the class.\n",
    "        \n",
    "        Parameters\n",
    "        ----------\n",
    "        n_neighbors : int, default=3\n",
    "            Number of neighbors to use by default.\n",
    "        \"\"\"\n",
    "        self.k = n_neighbors\n",
    "        self.X_train = None\n",
    "        self.y_train = None\n",
    "    \n",
    "    def fit(self, X, y):\n",
    "        \"\"\"\n",
    "        Fit the k-nearest neighbors classifier.\n",
    "        \n",
    "        Parameters\n",
    "        ----------\n",
    "        X : Numpy array or Pandas DataFrame of shape (n_samples, n_features)\n",
    "            Training data.\n",
    "        y : Numpy array or Pandas DataFrame of shape (n_samples,)\n",
    "            Target values.\n",
    "        \"\"\"\n",
    "        self.X_train = X\n",
    "        self.y_train = y\n",
    "    \n",
    "    @staticmethod\n",
    "    def _euclidian_distance(a, b):\n",
    "        \"\"\"\n",
    "        Utility function to compute the euclidian distance.\n",
    "        \n",
    "        Parameters\n",
    "        ----------\n",
    "        a : Numpy array or Pandas DataFrame\n",
    "            First operand.\n",
    "        b : Numpy array or Pandas DataFrame\n",
    "            Second operand.\n",
    "        \"\"\"\n",
    "        return np.sqrt(np.sum((a - b) ** 2, axis=1))\n",
    "    \n",
    "    def predict(self, X):\n",
    "        \"\"\"\n",
    "        Predict the class labels for the provided data.\n",
    "\n",
    "        Parameters\n",
    "        ----------\n",
    "        X : Numpy array or Pandas DataFrame of shape (n_queries, n_features)\n",
    "            Test samples.\n",
    "\n",
    "        Returns\n",
    "        -------\n",
    "        y : Numpy array or Pandas DataFrame of shape (n_queries,)\n",
    "            Class labels for each data sample.\n",
    "        \"\"\"\n",
    "        y_pred = []\n",
    "        for i in range(len(X)):\n",
    "            distances = self._euclidian_distance(self.X_train.values, X.iloc[i].values)\n",
    "            # Find the k nearest neighbors\n",
    "            k_indices = np.argsort(distances)[:self.k]\n",
    "            k_nearest_labels = self.y_train.iloc[k_indices]\n",
    "            # Count the occurrences of each class in the k nearest neighbors\n",
    "            counts = k_nearest_labels.value_counts()\n",
    "            # Find the maximum occurrences\n",
    "            max_count = counts.max()\n",
    "            # Find the class(es) with the maximum occurrences\n",
    "            candidates = counts[counts == max_count].index.tolist()\n",
    "\n",
    "            predicted_class = None\n",
    "\n",
    "            if len(candidates) == 1:\n",
    "                # If there is only one candidate class, choose it\n",
    "                predicted_class = candidates[0]\n",
    "            else:\n",
    "                # If there is more than one candidate class, choose the one that has the closest neighbor\n",
    "                for idx in k_indices:\n",
    "                    label = self.y_train.iloc[idx]\n",
    "                    if label in candidates:\n",
    "                        predicted_class = label\n",
    "                        break\n",
    "            y_pred.append(predicted_class)\n",
    "        return np.array(y_pred)\n",
    "\n",
    "    def score(self, X, y):\n",
    "        y_pred = self.predict(X)\n",
    "        return accuracy_score(y, y_pred)\n"
   ],
   "outputs": [],
   "execution_count": 337
  },
  {
   "cell_type": "markdown",
   "id": "6c2b4811",
   "metadata": {},
   "source": [
    "Compute the performance of the system as a function of $k = 1...7$."
   ]
  },
  {
   "cell_type": "code",
   "id": "cf589e66",
   "metadata": {
    "ExecuteTime": {
     "end_time": "2025-09-27T11:47:22.343646Z",
     "start_time": "2025-09-27T11:47:22.340710Z"
    }
   },
   "source": [
    "def evaluate_knn(X_train, X_test, y_train, y_test, k_values):\n",
    "    accuracies = []\n",
    "    for k in k_values:\n",
    "        knn = KNNClassifier(n_neighbors=k)\n",
    "        knn.fit(X_train, y_train)\n",
    "        y_pred = knn.predict(X_test)\n",
    "        acc = accuracy_score(y_test, y_pred)\n",
    "        accuracies.append(acc)\n",
    "        print(f\"KNN classifier accuracy with k={k}: {acc:.4f}\")\n",
    "    return accuracies"
   ],
   "outputs": [],
   "execution_count": 326
  },
  {
   "cell_type": "markdown",
   "id": "71c51f35",
   "metadata": {},
   "source": [
    "Run the KNN algorithm using only the features `TotalIncome` and `CreditHistory`."
   ]
  },
  {
   "cell_type": "code",
   "id": "2f6f262b",
   "metadata": {
    "ExecuteTime": {
     "end_time": "2025-09-27T11:47:22.570591Z",
     "start_time": "2025-09-27T11:47:22.351464Z"
    }
   },
   "source": [
    "k_values = range(1, 8)\n",
    "\n",
    "features_c = [\"TotalIncome\", \"CreditHistory\"]\n",
    "X_train_c = X_train[features_c]\n",
    "X_test_c = X_test[features_c]\n",
    "accuracies_c = evaluate_knn(X_train_c, X_test_c, y_train, y_test, k_values)"
   ],
   "outputs": [
    {
     "name": "stdout",
     "output_type": "stream",
     "text": [
      "KNN classifier accuracy with k=1: 0.7708\n",
      "KNN classifier accuracy with k=2: 0.7708\n",
      "KNN classifier accuracy with k=3: 0.7812\n",
      "KNN classifier accuracy with k=4: 0.7917\n",
      "KNN classifier accuracy with k=5: 0.8229\n",
      "KNN classifier accuracy with k=6: 0.8125\n",
      "KNN classifier accuracy with k=7: 0.8125\n"
     ]
    }
   ],
   "execution_count": 327
  },
  {
   "cell_type": "markdown",
   "id": "e2b1a682",
   "metadata": {},
   "source": [
    "Re-run the KNN algorithm using the features `TotalIncome`, `CreditHistory` and `Married`."
   ]
  },
  {
   "cell_type": "code",
   "id": "c0bda7ee",
   "metadata": {
    "ExecuteTime": {
     "end_time": "2025-09-27T11:47:22.833183Z",
     "start_time": "2025-09-27T11:47:22.580470Z"
    }
   },
   "source": [
    "features_d = [\"TotalIncome\", \"CreditHistory\", \"Married\"]\n",
    "X_train_d = X_train[features_d]\n",
    "X_test_d = X_test[features_d]\n",
    "accuracies_d = evaluate_knn(X_train_d, X_test_d, y_train, y_test, k_values)"
   ],
   "outputs": [
    {
     "name": "stdout",
     "output_type": "stream",
     "text": [
      "KNN classifier accuracy with k=1: 0.7917\n",
      "KNN classifier accuracy with k=2: 0.7917\n",
      "KNN classifier accuracy with k=3: 0.8646\n",
      "KNN classifier accuracy with k=4: 0.8438\n",
      "KNN classifier accuracy with k=5: 0.7917\n",
      "KNN classifier accuracy with k=6: 0.8021\n",
      "KNN classifier accuracy with k=7: 0.8021\n"
     ]
    }
   ],
   "execution_count": 328
  },
  {
   "cell_type": "markdown",
   "id": "2724167a",
   "metadata": {},
   "source": [
    "Re-run the KNN algorithm using all features."
   ]
  },
  {
   "metadata": {
    "ExecuteTime": {
     "end_time": "2025-09-27T11:47:23.052488Z",
     "start_time": "2025-09-27T11:47:22.840431Z"
    }
   },
   "cell_type": "code",
   "source": "accuracies_e = evaluate_knn(X_train, X_test, y_train, y_test, k_values)",
   "id": "aed486b491b5caa5",
   "outputs": [
    {
     "name": "stdout",
     "output_type": "stream",
     "text": [
      "KNN classifier accuracy with k=1: 0.6979\n",
      "KNN classifier accuracy with k=2: 0.6979\n",
      "KNN classifier accuracy with k=3: 0.7917\n",
      "KNN classifier accuracy with k=4: 0.8125\n",
      "KNN classifier accuracy with k=5: 0.8125\n",
      "KNN classifier accuracy with k=6: 0.8229\n",
      "KNN classifier accuracy with k=7: 0.8021\n"
     ]
    }
   ],
   "execution_count": 329
  },
  {
   "metadata": {},
   "cell_type": "markdown",
   "source": [
    "## Question e\n",
    "\n",
    "What do you notice ? What can you tell about the relationship between the performance, the number of samples and the number of features when using this algorithm ?\n",
    "\n",
    "**Answer:**\n",
    "\n",
    "The best performances over all the configurations are as follows:\n",
    "\n",
    "| Features used                              | k | Accuracy |\n",
    "|--------------------------------------------|---|----------|\n",
    "| `TotalIncome`, `CreditHistory`             | 5 | 0.82     |\n",
    "| `TotalIncome`, `CreditHistory`, `Married`  | 3 | 0.86     |\n",
    "| All features                               | 6 | 0.82     |\n",
    "\n",
    "Over all the configurations, the best performance (0.86) is obtained with k=3 using `TotalIncome`, `CreditHistory` and `Married` features, while the worst performance (0.82) is obtained with k=5 using `TotalIncome` and `CreditHistory` features, and with k=6 using all features. This observation can lead to several conclusions:\n",
    "\n",
    "- Having more information doesn't always lead to better performance. This is due to the fact that some features may be irrelevant or even detrimental to the classification task, introducing noise and confusion.\n",
    "- Some features provide useful information for the classification task. In this case, the `Married` feature seems to be relevant, since the performance improves when it is added to the feature set.\n",
    "- Using a bigger K do not necessarily lead to better performance. A smaller K can be more sensitive to local patterns in the data, while a larger K can smooth out these patterns and lead to a loss of information.\n",
    "- The optimal value of k varies depending on the feature set used. This indicates that the choice of k is influenced by the characteristics of the data and the features selected."
   ],
   "id": "698424190122a7d3"
  },
  {
   "metadata": {},
   "cell_type": "markdown",
   "source": [
    "## Question f\n",
    "\n",
    "How is your system taking decisions when you have an equal number of votes for both classes with values of k = 2, 4, 6 ?\n",
    "\n",
    "**Answer:**\n",
    "\n",
    "To handle ties in the voting process, we choose the class that has a neighbor with the smallest distance to the query point."
   ],
   "id": "958068e4e1bee4b8"
  },
  {
   "metadata": {},
   "cell_type": "markdown",
   "source": "## Let's do the same using cross-validation",
   "id": "655c2a8a16a4edb1"
  },
  {
   "metadata": {
    "ExecuteTime": {
     "end_time": "2025-09-27T11:47:23.060578Z",
     "start_time": "2025-09-27T11:47:23.056742Z"
    }
   },
   "cell_type": "code",
   "source": [
    "from sklearn.model_selection import KFold\n",
    "\n",
    "def cross_val_knn(X, y, k_values, n_folds=5):\n",
    "    kf = KFold(n_splits=n_folds, shuffle=True, random_state=42)\n",
    "    results = {k: [] for k in k_values}\n",
    "    for train_idx, test_idx in kf.split(X):\n",
    "        X_train, X_test = X.iloc[train_idx], X.iloc[test_idx]\n",
    "        y_train, y_test = y.iloc[train_idx], y.iloc[test_idx]\n",
    "        for k in k_values:\n",
    "            knn = KNNClassifier(n_neighbors=k)\n",
    "            knn.fit(X_train, y_train)\n",
    "            y_pred = knn.predict(X_test)\n",
    "            acc = accuracy_score(y_test, y_pred)\n",
    "            results[k].append(acc)\n",
    "    # Mean accuracy for each k\n",
    "    print(f\"Cross-validation results over {n_folds} folds:\")\n",
    "    for k in k_values:\n",
    "        print(f\"KNN (k={k}) - Moyenne accuracy sur {n_folds} folds: {np.mean(results[k]):.4f}\")\n",
    "    return results"
   ],
   "id": "8e8cc016e73ac5d1",
   "outputs": [],
   "execution_count": 330
  },
  {
   "metadata": {
    "ExecuteTime": {
     "end_time": "2025-09-27T11:52:40.879817Z",
     "start_time": "2025-09-27T11:52:37.491023Z"
    }
   },
   "cell_type": "code",
   "source": [
    "accuracies_c_crossval = cross_val_knn(X[features_c], y, k_values)\n",
    "accuracies_d_crossval = cross_val_knn(X[features_d], y, k_values)\n",
    "accuracies_e_crossval = cross_val_knn(X, y, k_values)"
   ],
   "id": "3ba4501ad426dacb",
   "outputs": [
    {
     "name": "stdout",
     "output_type": "stream",
     "text": [
      "Cross-validation results over 5 folds:\n",
      "KNN (k=1) - Moyenne accuracy sur 5 folds: 0.6937\n",
      "KNN (k=2) - Moyenne accuracy sur 5 folds: 0.6937\n",
      "KNN (k=3) - Moyenne accuracy sur 5 folds: 0.7438\n",
      "KNN (k=4) - Moyenne accuracy sur 5 folds: 0.7396\n",
      "KNN (k=5) - Moyenne accuracy sur 5 folds: 0.7646\n",
      "KNN (k=6) - Moyenne accuracy sur 5 folds: 0.7646\n",
      "KNN (k=7) - Moyenne accuracy sur 5 folds: 0.7812\n",
      "Cross-validation results over 5 folds:\n",
      "KNN (k=1) - Moyenne accuracy sur 5 folds: 0.6813\n",
      "KNN (k=2) - Moyenne accuracy sur 5 folds: 0.6813\n",
      "KNN (k=3) - Moyenne accuracy sur 5 folds: 0.7646\n",
      "KNN (k=4) - Moyenne accuracy sur 5 folds: 0.7500\n",
      "KNN (k=5) - Moyenne accuracy sur 5 folds: 0.7708\n",
      "KNN (k=6) - Moyenne accuracy sur 5 folds: 0.7729\n",
      "KNN (k=7) - Moyenne accuracy sur 5 folds: 0.7854\n",
      "Cross-validation results over 5 folds:\n",
      "KNN (k=1) - Moyenne accuracy sur 5 folds: 0.7292\n",
      "KNN (k=2) - Moyenne accuracy sur 5 folds: 0.7292\n",
      "KNN (k=3) - Moyenne accuracy sur 5 folds: 0.7521\n",
      "KNN (k=4) - Moyenne accuracy sur 5 folds: 0.7604\n",
      "KNN (k=5) - Moyenne accuracy sur 5 folds: 0.7646\n",
      "KNN (k=6) - Moyenne accuracy sur 5 folds: 0.7708\n",
      "KNN (k=7) - Moyenne accuracy sur 5 folds: 0.7833\n"
     ]
    }
   ],
   "execution_count": 333
  },
  {
   "metadata": {
    "ExecuteTime": {
     "end_time": "2025-09-27T12:03:05.990078Z",
     "start_time": "2025-09-27T12:03:05.576898Z"
    }
   },
   "cell_type": "code",
   "source": [
    "# Test avec les fonctions de scikit-learn pour voir la différence\n",
    "from sklearn.neighbors import KNeighborsClassifier\n",
    "from sklearn.model_selection import cross_val_score\n",
    "\n",
    "k_values = [i for i in range (1,31)]\n",
    "scores = []\n",
    "\n",
    "scaler = StandardScaler()\n",
    "X = scaler.fit_transform(X)\n",
    "\n",
    "for k in k_values:\n",
    "    knn = KNeighborsClassifier(n_neighbors=k)\n",
    "    score = cross_val_score(knn, X, y, cv=5)\n",
    "    scores.append(np.mean(score))\n",
    "    print(f\"KNN (k={k}) - Moyenne accuracy sur 5 folds: {np.mean(score):.4f}\")"
   ],
   "id": "96bf7683517ce27",
   "outputs": [
    {
     "name": "stdout",
     "output_type": "stream",
     "text": [
      "KNN (k=1) - Moyenne accuracy sur 5 folds: 0.7167\n",
      "KNN (k=2) - Moyenne accuracy sur 5 folds: 0.6542\n",
      "KNN (k=3) - Moyenne accuracy sur 5 folds: 0.7667\n",
      "KNN (k=4) - Moyenne accuracy sur 5 folds: 0.7354\n",
      "KNN (k=5) - Moyenne accuracy sur 5 folds: 0.7854\n",
      "KNN (k=6) - Moyenne accuracy sur 5 folds: 0.7750\n",
      "KNN (k=7) - Moyenne accuracy sur 5 folds: 0.8042\n",
      "KNN (k=8) - Moyenne accuracy sur 5 folds: 0.7937\n",
      "KNN (k=9) - Moyenne accuracy sur 5 folds: 0.8000\n",
      "KNN (k=10) - Moyenne accuracy sur 5 folds: 0.7917\n",
      "KNN (k=11) - Moyenne accuracy sur 5 folds: 0.7958\n",
      "KNN (k=12) - Moyenne accuracy sur 5 folds: 0.7917\n",
      "KNN (k=13) - Moyenne accuracy sur 5 folds: 0.8042\n",
      "KNN (k=14) - Moyenne accuracy sur 5 folds: 0.8083\n",
      "KNN (k=15) - Moyenne accuracy sur 5 folds: 0.8083\n",
      "KNN (k=16) - Moyenne accuracy sur 5 folds: 0.8083\n",
      "KNN (k=17) - Moyenne accuracy sur 5 folds: 0.8104\n",
      "KNN (k=18) - Moyenne accuracy sur 5 folds: 0.8083\n",
      "KNN (k=19) - Moyenne accuracy sur 5 folds: 0.8083\n",
      "KNN (k=20) - Moyenne accuracy sur 5 folds: 0.8083\n",
      "KNN (k=21) - Moyenne accuracy sur 5 folds: 0.8104\n",
      "KNN (k=22) - Moyenne accuracy sur 5 folds: 0.8104\n",
      "KNN (k=23) - Moyenne accuracy sur 5 folds: 0.8104\n",
      "KNN (k=24) - Moyenne accuracy sur 5 folds: 0.8104\n",
      "KNN (k=25) - Moyenne accuracy sur 5 folds: 0.8104\n",
      "KNN (k=26) - Moyenne accuracy sur 5 folds: 0.8083\n",
      "KNN (k=27) - Moyenne accuracy sur 5 folds: 0.8104\n",
      "KNN (k=28) - Moyenne accuracy sur 5 folds: 0.8104\n",
      "KNN (k=29) - Moyenne accuracy sur 5 folds: 0.8083\n",
      "KNN (k=30) - Moyenne accuracy sur 5 folds: 0.8104\n"
     ]
    }
   ],
   "execution_count": 347
  }
 ],
 "metadata": {
  "kernelspec": {
   "display_name": "Python 3 (ipykernel)",
   "language": "python",
   "name": "python3"
  },
  "language_info": {
   "codemirror_mode": {
    "name": "ipython",
    "version": 3
   },
   "file_extension": ".py",
   "mimetype": "text/x-python",
   "name": "python",
   "nbconvert_exporter": "python",
   "pygments_lexer": "ipython3",
   "version": "3.7.11"
  }
 },
 "nbformat": 4,
 "nbformat_minor": 5
}
