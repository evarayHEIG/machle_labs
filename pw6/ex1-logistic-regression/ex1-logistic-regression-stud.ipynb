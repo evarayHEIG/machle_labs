{
 "cells": [
  {
   "cell_type": "markdown",
   "id": "c3f75064caef54a0",
   "metadata": {},
   "source": [
    "#### authors: Rafael Dousse, Eva Ray, Massimo Stefani"
   ]
  },
  {
   "cell_type": "markdown",
   "id": "7c9c5a60",
   "metadata": {},
   "source": [
    "# Exercise 1 - Classification to predict student admission"
   ]
  },
  {
   "cell_type": "markdown",
   "id": "1daf0e59",
   "metadata": {},
   "source": [
    "## Imports"
   ]
  },
  {
   "cell_type": "code",
   "execution_count": 2,
   "id": "7c28efb9",
   "metadata": {
    "ExecuteTime": {
     "end_time": "2025-10-21T12:05:19.166647Z",
     "start_time": "2025-10-21T12:05:19.161725Z"
    }
   },
   "outputs": [],
   "source": [
    "import pandas as pd\n",
    "import numpy as np\n",
    "import matplotlib.pyplot as plt\n",
    "from scipy.constants import sigma\n",
    "from sklearn.linear_model import SGDClassifier"
   ]
  },
  {
   "cell_type": "markdown",
   "id": "7111aa8b",
   "metadata": {},
   "source": [
    "## Exercise steps"
   ]
  },
  {
   "cell_type": "markdown",
   "id": "bf011d53",
   "metadata": {},
   "source": [
    "### a. Logistic regression classifier with linear decision boundary"
   ]
  },
  {
   "cell_type": "markdown",
   "id": "f46294c8",
   "metadata": {},
   "source": [
    "#### a) Read the data from file"
   ]
  },
  {
   "cell_type": "markdown",
   "id": "595ac345",
   "metadata": {},
   "source": [
    "In a similar way as for the exercise of the previous week, read the training data from file `student-dataset-train.csv`. The first two columns are $x_{1}$ and $x_{2}$. The last column holds the class label $y$. Build the design matrix $X$ as follow:"
   ]
  },
  {
   "cell_type": "markdown",
   "id": "07903ccd",
   "metadata": {},
   "source": [
    "<center>$X = \\left(\\begin{array}{ccc} \n",
    "        1 &   x_{1,1} & x_{1,2} \\\\\n",
    "        1 &   \\vdots  & \\vdots  \\\\\n",
    "        1 &   x_{N,1} & x_{N,2}\n",
    "           \\end{array}\\right)$</center>"
   ]
  },
  {
   "cell_type": "markdown",
   "id": "679d31ec",
   "metadata": {},
   "source": [
    "Check that the shape of $X$ is (100,3) and that the shape of $y$ is (100,)."
   ]
  },
  {
   "cell_type": "code",
   "execution_count": 3,
   "id": "70cf4ca3326fd0be",
   "metadata": {
    "ExecuteTime": {
     "end_time": "2025-10-21T13:45:04.550322Z",
     "start_time": "2025-10-21T13:45:04.546116Z"
    }
   },
   "outputs": [],
   "source": [
    "def read(file):\n",
    "    data = pd.read_csv(file, names=['x1', 'x2', 'y'])\n",
    "    X = data[['x1', 'x2']].values\n",
    "    y = data['y'].values\n",
    "    return X, y"
   ]
  },
  {
   "cell_type": "code",
   "execution_count": 4,
   "id": "922120d5",
   "metadata": {
    "ExecuteTime": {
     "end_time": "2025-10-21T13:45:06.732051Z",
     "start_time": "2025-10-21T13:45:06.716204Z"
    }
   },
   "outputs": [],
   "source": [
    "train_file = 'student-dataset-train.csv'\n",
    "test_file = 'student-dataset-test.csv'\n",
    "\n",
    "X_train, y_train = read(train_file)\n",
    "X_test, y_test = read(test_file)"
   ]
  },
  {
   "cell_type": "code",
   "execution_count": 5,
   "id": "2f46ed02b748941f",
   "metadata": {
    "ExecuteTime": {
     "end_time": "2025-10-21T13:45:08.547570Z",
     "start_time": "2025-10-21T13:45:08.423041Z"
    }
   },
   "outputs": [
    {
     "data": {
      "image/png": "[encoded data removed]",
      "text/plain": [
       "<Figure size 640x480 with 1 Axes>"
      ]
     },
     "metadata": {},
     "output_type": "display_data"
    }
   ],
   "source": [
    "# Visualize the training data\n",
    "plt.scatter(X_train[y_train==0][:,0], X_train[y_train==0][:,1], color='green', label='${x_1}$')\n",
    "plt.scatter(X_train[y_train==1][:,0], X_train[y_train==1][:,1], marker='x', color='red', label='${x_2}$')\n",
    "plt.xlabel('Exam 1 score')\n",
    "plt.ylabel('Exam 2 score')\n",
    "plt.title('Training Data')\n",
    "plt.legend()\n",
    "plt.show()"
   ]
  },
  {
   "cell_type": "code",
   "execution_count": 6,
   "id": "c4f1c04a20b294da",
   "metadata": {
    "ExecuteTime": {
     "end_time": "2025-10-21T13:45:10.771429Z",
     "start_time": "2025-10-21T13:45:10.766940Z"
    }
   },
   "outputs": [],
   "source": [
    "# Add first column of ones to X_train and X_test\n",
    "X_train = np.hstack((np.ones((X_train.shape[0], 1)), X_train))\n",
    "X_test = np.hstack((np.ones((X_test.shape[0], 1)), X_test))"
   ]
  },
  {
   "cell_type": "code",
   "execution_count": 7,
   "id": "276a489eafb4c9be",
   "metadata": {
    "ExecuteTime": {
     "end_time": "2025-10-21T13:45:12.089274Z",
     "start_time": "2025-10-21T13:45:12.084435Z"
    }
   },
   "outputs": [
    {
     "name": "stdout",
     "output_type": "stream",
     "text": [
      "Shape of X_train: (100, 3)\n",
      "Shape of y_train: (100,)\n",
      "Shape of X_test: (100, 3)\n",
      "Shape of y_test: (100,)\n"
     ]
    }
   ],
   "source": [
    "# print shapes of X and y to verify their correctness\n",
    "print(\"Shape of X_train:\", X_train.shape)\n",
    "print(\"Shape of y_train:\", y_train.shape)\n",
    "print(\"Shape of X_test:\", X_test.shape)\n",
    "print(\"Shape of y_test:\", y_test.shape)"
   ]
  },
  {
   "cell_type": "markdown",
   "id": "e5eb2b3e",
   "metadata": {},
   "source": [
    "#### b) Implement a z-norm normalization of the training set"
   ]
  },
  {
   "cell_type": "markdown",
   "id": "dedfd222",
   "metadata": {},
   "source": [
    "You need to store the normalization values $(\\mu, \\sigma)$ for later as they will be needed to normalize the test set."
   ]
  },
  {
   "cell_type": "code",
   "execution_count": 8,
   "id": "814f8bfd",
   "metadata": {
    "ExecuteTime": {
     "end_time": "2025-10-21T13:45:14.322827Z",
     "start_time": "2025-10-21T13:45:14.319391Z"
    }
   },
   "outputs": [],
   "source": [
    "def normalize(x, mu=None, sigma=None):\n",
    "    if mu is None:\n",
    "        mu = np.mean(x, axis=0)\n",
    "    if sigma is None:\n",
    "        sigma = np.std(x, axis=0)\n",
    "    x_norm = (x - mu) / sigma\n",
    "    return x_norm, mu, sigma"
   ]
  },
  {
   "cell_type": "code",
   "execution_count": 9,
   "id": "afcbcb8e85cbd95e",
   "metadata": {
    "ExecuteTime": {
     "end_time": "2025-10-21T13:45:15.822028Z",
     "start_time": "2025-10-21T13:45:15.818527Z"
    }
   },
   "outputs": [],
   "source": [
    "# Normalize training data (excluding the first column of ones)\n",
    "X_train[:, 1:], mu, sigma = normalize(X_train[:, 1:])\n",
    "# Normalize test data using training mu and sigma\n",
    "X_test[:, 1:], _, _ = normalize(X_test[:, 1:], mu, sigma)"
   ]
  },
  {
   "cell_type": "markdown",
   "id": "cdf8fced",
   "metadata": {},
   "source": [
    "#### c) Implement a sigmoid function $g(z) = \\frac{1}{1+e^{-z}}$"
   ]
  },
  {
   "cell_type": "markdown",
   "id": "5c6bc4d3",
   "metadata": {},
   "source": [
    "Use numpy to compute the exp so that your function can take numpy arrays as input. Check your implementation by plotting the sigmoid function."
   ]
  },
  {
   "cell_type": "code",
   "execution_count": 10,
   "id": "8f479a61",
   "metadata": {
    "ExecuteTime": {
     "end_time": "2025-10-21T13:45:18.363518Z",
     "start_time": "2025-10-21T13:45:18.267605Z"
    }
   },
   "outputs": [
    {
     "data": {
      "image/png": "[encoded data removed]",
      "text/plain": [
       "<Figure size 640x480 with 1 Axes>"
      ]
     },
     "metadata": {},
     "output_type": "display_data"
    }
   ],
   "source": [
    "def sigmoid(z):\n",
    "    return 1 / (1 + np.exp(-z))\n",
    "\n",
    "# Plot the sigmoid function to verify it is correct\n",
    "z = np.linspace(-10, 10, 100)\n",
    "plt.plot(z, sigmoid(z))\n",
    "plt.title('Sigmoid Function')\n",
    "plt.xlabel('$z$')\n",
    "plt.ylabel('$g(z$)')\n",
    "plt.grid()\n",
    "plt.show()"
   ]
  },
  {
   "cell_type": "markdown",
   "id": "fb3d2958",
   "metadata": {},
   "source": [
    "#### d) Implement the hypothesis function $h_{\\theta}(\\mathbf{x})$"
   ]
  },
  {
   "cell_type": "markdown",
   "id": "b0fb80e2",
   "metadata": {},
   "source": [
    "Hint: implement it so that the computation can take the full array $X$ with $h(\\mathbf{x})$ broadcasted to all training samples."
   ]
  },
  {
   "cell_type": "code",
   "execution_count": 11,
   "id": "9d66dad9",
   "metadata": {
    "ExecuteTime": {
     "end_time": "2025-10-21T13:45:20.385595Z",
     "start_time": "2025-10-21T13:45:20.382383Z"
    }
   },
   "outputs": [],
   "source": [
    "# Taking inspiration form slide 25 of week 6 lecture\n",
    "def hypothesis(X, theta):\n",
    "    # X has shape (N, d) and theta has shape (d,)\n",
    "    # The dot product is the broadcasted to all samples in X\n",
    "    z = np.dot(X, theta)\n",
    "    return sigmoid(z)"
   ]
  },
  {
   "cell_type": "markdown",
   "id": "6e29c2e3",
   "metadata": {},
   "source": [
    "#### e) Implement the objective function $J(\\theta)$"
   ]
  },
  {
   "cell_type": "markdown",
   "id": "5b12f3ac",
   "metadata": {},
   "source": [
    "<center>$J(\\theta) = \\frac{1}{N} \\sum_{n=1}^{N} y_{n} \\log h_{\\theta}(\\mathbf{x_{n}}) + (1-y_{n}) \\log (1 - h_{\\theta} (\\mathbf{x_{n}}))$</center>"
   ]
  },
  {
   "cell_type": "code",
   "execution_count": 12,
   "id": "edfbb39f",
   "metadata": {
    "ExecuteTime": {
     "end_time": "2025-10-21T13:45:24.184967Z",
     "start_time": "2025-10-21T13:45:24.181170Z"
    }
   },
   "outputs": [],
   "source": [
    "# Taking inspiration form slide 26 of week 6 lecture\n",
    "def objective(X, y, theta):\n",
    "    epsilon = 1e-6\n",
    "    h = hypothesis(X, theta) # h has shape (N,)\n",
    "    N = X.shape[0]\n",
    "    tmp = y * np.log(h + epsilon) + (1 - y) * np.log(1 - h + epsilon)\n",
    "    return np.sum(tmp) / N"
   ]
  },
  {
   "cell_type": "markdown",
   "id": "68cf517b",
   "metadata": {},
   "source": [
    "#### f) Implement the gradient ascent"
   ]
  },
  {
   "cell_type": "markdown",
   "id": "da42fed9",
   "metadata": {},
   "source": [
    "In a similar way as in PW02 and PW03, implement the gradient ascent with the update rule:"
   ]
  },
  {
   "cell_type": "markdown",
   "id": "1b6135d3",
   "metadata": {},
   "source": [
    "<center>$\\theta_{i} \\leftarrow \\theta_{i} + \\alpha \\frac{1}{N} \\sum_{n=1}^{N} (y_{n} - h_{\\theta}(\\mathbf{x}_{n})) x_{n,i}$</center>"
   ]
  },
  {
   "cell_type": "code",
   "execution_count": 13,
   "id": "5277e9aa",
   "metadata": {
    "ExecuteTime": {
     "end_time": "2025-10-21T12:36:20.654939Z",
     "start_time": "2025-10-21T12:36:20.650334Z"
    }
   },
   "outputs": [],
   "source": [
    "# Taking inspiration form slide 24 of week 6 lecture\n",
    "def gradient_ascent(X, y, learning_rate, num_epoch): # X has shape (N, d), y has shape (N,)\n",
    "    N, D = X.shape # N: number of samples, D: dimension of each sample\n",
    "    theta = np.zeros(D) # init thetas to some values - in theory it can be anything but values at zeros\n",
    "                        # or close to zeros may help convergence\n",
    "    J = [] # to store the evolution of the objective function\n",
    "\n",
    "    for epoch in range(num_epoch):\n",
    "        h = hypothesis(X, theta)\n",
    "        error = y - h\n",
    "        gradient = np.dot(X.T, error) / N\n",
    "        theta += learning_rate * gradient\n",
    "        J.append(objective(X, y, theta))\n",
    "\n",
    "    return theta, J"
   ]
  },
  {
   "cell_type": "markdown",
   "id": "9993050d",
   "metadata": {},
   "source": [
    "#### g) Test your implementation by running a gradient ascent"
   ]
  },
  {
   "cell_type": "markdown",
   "id": "beeea57c",
   "metadata": {},
   "source": [
    "Hints: use a small $\\alpha$. e.g. $0.001$,  store the evolution of the objective function $J(\\theta)$ during the epochs to make a plot, use a large number of epochs, e.g. $2000000$."
   ]
  },
  {
   "cell_type": "code",
   "execution_count": 14,
   "id": "ad5cd402",
   "metadata": {
    "ExecuteTime": {
     "end_time": "2025-10-21T12:37:27.305935Z",
     "start_time": "2025-10-21T12:36:23.188039Z"
    }
   },
   "outputs": [
    {
     "name": "stdout",
     "output_type": "stream",
     "text": [
      "Learned parameters (theta): [1.71844403 3.99277595 3.72512522]\n"
     ]
    },
    {
     "data": {
      "image/png": "[encoded data removed]",
      "text/plain": [
       "<Figure size 640x480 with 1 Axes>"
      ]
     },
     "metadata": {},
     "output_type": "display_data"
    }
   ],
   "source": [
    "theta, J = gradient_ascent(X_train, y_train, learning_rate=0.001, num_epoch=2000000)\n",
    "\n",
    "# Print theta values after training\n",
    "print(\"Learned parameters (theta):\", theta)\n",
    "# Plot the evolution of the objective function\n",
    "plt.plot(J)\n",
    "plt.title('Evolution of Objective Function J(θ)')\n",
    "plt.xlabel('Epochs')\n",
    "plt.ylabel('J(θ)')\n",
    "plt.grid()\n",
    "plt.show()"
   ]
  },
  {
   "cell_type": "code",
   "execution_count": 17,
   "id": "951bbad8",
   "metadata": {},
   "outputs": [
    {
     "data": {
      "text/plain": [
       "array([1.71844403, 3.99277595, 3.72512522])"
      ]
     },
     "execution_count": 17,
     "metadata": {},
     "output_type": "execute_result"
    }
   ],
   "source": [
    "theta"
   ]
  },
  {
   "cell_type": "markdown",
   "id": "7105c0fca6f1132c",
   "metadata": {},
   "source": [
    "We can see that the objective function increases and converges over time, indicating that the gradient ascent is working correctly."
   ]
  },
  {
   "cell_type": "markdown",
   "id": "55c6dee7",
   "metadata": {},
   "source": [
    "#### h) Compute the correct classification rate on `student-dataset-test.csv`"
   ]
  },
  {
   "cell_type": "markdown",
   "id": "11206c83",
   "metadata": {},
   "source": [
    "Compute the correct classification rate on `student-dataset-test.csv` after convergence as you have an estimator of the posterior probabilities with:"
   ]
  },
  {
   "cell_type": "markdown",
   "id": "2cd1e565",
   "metadata": {},
   "source": [
    "<center>$P(y_{n}=1|\\mathbf{x_{n}};\\theta) = h_{\\theta}(\\mathbf{x_{n}})$</center>\n",
    "<center>$P(y_{n}=0|\\mathbf{x_{n}};\\theta) = 1 - h_{\\theta}(\\mathbf{x_{n}})$</center>"
   ]
  },
  {
   "cell_type": "markdown",
   "id": "719bfe0a",
   "metadata": {},
   "source": [
    "This means that you can take the decisions $\\hat{y}_{n} = 1$ if $h_{\\theta}(\\mathbf{x_{n}}) \\geq 0.5$ and $\\hat{y}_{n} = 0$ if $h_{\\theta}(\\mathbf{x_{n}}) < 0.5$."
   ]
  },
  {
   "cell_type": "code",
   "execution_count": null,
   "id": "8a333f9e",
   "metadata": {
    "ExecuteTime": {
     "end_time": "2025-10-21T12:37:56.352032Z",
     "start_time": "2025-10-21T12:37:56.345064Z"
    }
   },
   "outputs": [
    {
     "name": "stdout",
     "output_type": "stream",
     "text": [
      "Correct classification rate on test set: 89.00000%\n"
     ]
    }
   ],
   "source": [
    "def predict(X, theta):\n",
    "    probs = hypothesis(X, theta)\n",
    "    return (probs >= 0.5).astype(int)\n",
    "\n",
    "y_pred = predict(X_test, theta)\n",
    "accuracy = np.mean(y_pred == y_test)\n",
    "print(f\"Correct classification rate on test set: {accuracy * 100:.2f}%\")"
   ]
  },
  {
   "cell_type": "markdown",
   "id": "9de5cb5a",
   "metadata": {},
   "source": [
    "#### i) Draw the decision boundary"
   ]
  },
  {
   "cell_type": "markdown",
   "id": "7fab6839",
   "metadata": {},
   "source": [
    "Draw the decision boundary of your system on top of the scatter plot of the testing data."
   ]
  },
  {
   "cell_type": "code",
   "execution_count": 18,
   "id": "ec0a3e5e",
   "metadata": {
    "ExecuteTime": {
     "end_time": "2025-10-21T12:56:50.630829Z",
     "start_time": "2025-10-21T12:56:50.507491Z"
    }
   },
   "outputs": [
    {
     "data": {
      "image/png": "[encoded data removed]",
      "text/plain": [
       "<Figure size 640x480 with 1 Axes>"
      ]
     },
     "metadata": {},
     "output_type": "display_data"
    }
   ],
   "source": [
    "# Display test data\n",
    "plt.scatter(X_test[y_test==0][:,1], X_test[y_test==0][:,2], color='green', label='not admitted')\n",
    "plt.scatter(X_test[y_test==1][:,1], X_test[y_test==1][:,2], marker='x', color='red', label='admitted')\n",
    "\n",
    "# Grid for decision boundary\n",
    "x1_min, x1_max = X_test[:,1].min()-0.5, X_test[:,1].max()+0.5\n",
    "x2_min, x2_max = X_test[:,2].min()-0.5, X_test[:,2].max()+0.5\n",
    "grid_x1, grid_x2 = np.meshgrid(np.linspace(x1_min, x1_max, 200), np.linspace(x2_min, x2_max, 200))\n",
    "\n",
    "# Compute decision boundary\n",
    "decision_line = sigmoid(theta[0] + theta[1] * grid_x1 + theta[2] * grid_x2)\n",
    "\n",
    "# Plot decision boundary\n",
    "plt.contour(grid_x1, grid_x2, decision_line, levels=[0.5], linewidths=2, colors='blue')\n",
    "plt.xlabel('Exam 1 score (normalised)')\n",
    "plt.ylabel('Exam 2 score (normalised)')\n",
    "plt.title('Decision Boundary on Test Data')\n",
    "plt.legend()\n",
    "plt.show()"
   ]
  },
  {
   "cell_type": "markdown",
   "id": "215e78969747bbea",
   "metadata": {},
   "source": [
    "We can see that the decision boundary separates the two classes quite well, while some misclassifications still occur. That said, it looks impossible to perfectly separate the two classes with a linear decision boundary, we could try a more complex model."
   ]
  },
  {
   "cell_type": "markdown",
   "id": "c33157fe",
   "metadata": {},
   "source": [
    "#### j) Compare the performance"
   ]
  },
  {
   "cell_type": "markdown",
   "id": "e518484b",
   "metadata": {},
   "source": [
    "Compare the performance of the logistic regression system with the ones of previous's week."
   ]
  },
  {
   "cell_type": "code",
   "execution_count": 19,
   "id": "b628d369",
   "metadata": {
    "ExecuteTime": {
     "end_time": "2025-10-21T13:02:04.854077Z",
     "start_time": "2025-10-21T13:02:04.849812Z"
    }
   },
   "outputs": [
    {
     "name": "stdout",
     "output_type": "stream",
     "text": [
      "Correct classification rate on test set: 89.00%\n"
     ]
    }
   ],
   "source": [
    "print(f\"Correct classification rate on test set: {accuracy * 100:.2f}%\")"
   ]
  },
  {
   "cell_type": "markdown",
   "id": "5c3b7269be363bd8",
   "metadata": {},
   "source": [
    "Compared to the other models used for classification in previous weeks, logistic regression performs quite well. It achieves a classification rate of around 89%, which shows that it is effective for this type of binary classification problem. The linear decision boundary is a limitation, but the model still captures the underlying patterns in the data reasonably well. To get even better performance, we could consider using a more complex model with non-linear decision boundaries."
   ]
  },
  {
   "cell_type": "markdown",
   "id": "29883176",
   "metadata": {},
   "source": [
    "### b. Optional - Stochastic gradient ascent"
   ]
  },
  {
   "cell_type": "markdown",
   "id": "16686a85",
   "metadata": {},
   "source": [
    "Redo the experiments of 2.a with a stochastic gradient ascent."
   ]
  },
  {
   "cell_type": "code",
   "execution_count": 12,
   "id": "01bec6c2",
   "metadata": {},
   "outputs": [],
   "source": [
    "# Your code here"
   ]
  },
  {
   "cell_type": "markdown",
   "id": "20885c0a",
   "metadata": {},
   "source": [
    "### c. Logistic regression classifier with non-linear decision boundary"
   ]
  },
  {
   "cell_type": "markdown",
   "id": "cb2e0a1e",
   "metadata": {},
   "source": [
    "Redo the experiments of 2.a by increasing the complexity of the model in order to have a non-linear decision boundary:"
   ]
  },
  {
   "cell_type": "markdown",
   "id": "5ad8f75e",
   "metadata": {},
   "source": [
    "<center>$h_{\\theta}(\\mathbf{x}) = g(\\theta_{0} + \\theta_{1} x_{1} + \\theta_{2} x_{2} + \\theta_{3} x_{1}^{2} + \\theta_{4} x_{2}^{2} + \\theta_{5} x_{1}x_{2} + \\ldots)$</center>"
   ]
  },
  {
   "cell_type": "code",
   "execution_count": 13,
   "id": "dc7851a4",
   "metadata": {},
   "outputs": [],
   "source": [
    "# Your code here"
   ]
  },
  {
   "cell_type": "markdown",
   "id": "e9995e78",
   "metadata": {},
   "source": [
    "### d. Using SciKit Learn"
   ]
  },
  {
   "cell_type": "markdown",
   "id": "420c64c4",
   "metadata": {},
   "source": [
    "Redo one of the exercise a. or c. using SciKit Learn."
   ]
  },
  {
   "cell_type": "markdown",
   "id": "4c918199",
   "metadata": {},
   "source": [
    "1. Read the documentation of the function `SGDClassifier()` available in the toolkit SciKit Learn. This function implements stochastic gradient descent training for different linear systems such as Logistic Regression. For a logistic regression, the `loss` parameter should be set to `\"log\"`.\n",
    "1. Use the `fit()` and `predict()` methods of this classifier on the student data.\n",
    "1. Compute the performances and compare it to your own implementations."
   ]
  },
  {
   "cell_type": "code",
   "execution_count": 247,
   "id": "627bdd1b",
   "metadata": {
    "ExecuteTime": {
     "end_time": "2025-10-21T13:56:10.386994Z",
     "start_time": "2025-10-21T13:56:10.379592Z"
    }
   },
   "outputs": [
    {
     "name": "stdout",
     "output_type": "stream",
     "text": [
      "Correct classification rate on test set using SciKit Learn: 84.00%\n"
     ]
    }
   ],
   "source": [
    "# We choose to use the SGDClassifier on the original data of exercise a.\n",
    "\n",
    "X_train_sl = X_train[:, 1:]  # Remove the first column of ones for SciKit Learn\n",
    "X_test_sl = X_test[:, 1:]    # Remove the first column of ones for SciKit Learn\n",
    "\n",
    "classifier = SGDClassifier(loss='log_loss', eta0=0.001, max_iter=2000000)\n",
    "classifier.fit(X_train_sl, y_train)\n",
    "\n",
    "y_pred_sklearn = classifier.predict(X_test_sl)\n",
    "accuracy_sklearn = np.mean(y_pred_sklearn == y_test)\n",
    "\n",
    "print(f\"Correct classification rate on test set using SciKit Learn: {accuracy_sklearn * 100:.2f}%\")"
   ]
  },
  {
   "cell_type": "markdown",
   "id": "fb60078405eae7c4",
   "metadata": {},
   "source": [
    "The result with Scikit learn is very similar to our own implementation, achieving a correct classification rate of around 82-90%. This shows that our implementation is correct. This also highlights the fact that using established libraries like Scikit learn can be more efficient and reliable for implementing machine learning algorithms than coding them from scratch, especially for more complex models and larger datasets."
   ]
  }
 ],
 "metadata": {
  "kernelspec": {
   "display_name": "venv (3.13.7)",
   "language": "python",
   "name": "python3"
  },
  "language_info": {
   "codemirror_mode": {
    "name": "ipython",
    "version": 3
   },
   "file_extension": ".py",
   "mimetype": "text/x-python",
   "name": "python",
   "nbconvert_exporter": "python",
   "pygments_lexer": "ipython3",
   "version": "3.13.7"
  }
 },
 "nbformat": 4,
 "nbformat_minor": 5
}
