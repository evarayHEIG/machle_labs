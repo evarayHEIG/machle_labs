{
 "cells": [
  {
   "cell_type": "markdown",
   "id": "a9d6a03ab723d645",
   "metadata": {},
   "source": [
    "##### Authors: Rafael Dousse, Eva Ray, Massimo Stefani"
   ]
  },
  {
   "cell_type": "markdown",
   "id": "bcf79585",
   "metadata": {},
   "source": [
    "# Exercice 2 - System evaluation"
   ]
  },
  {
   "cell_type": "markdown",
   "id": "f642cedb",
   "metadata": {},
   "source": [
    "## Imports"
   ]
  },
  {
   "cell_type": "code",
   "execution_count": 1,
   "id": "9421a4e1",
   "metadata": {},
   "outputs": [],
   "source": [
    "import pandas as pd\n",
    "import numpy as np"
   ]
  },
  {
   "cell_type": "markdown",
   "id": "a0d67fa6",
   "metadata": {},
   "source": [
    "## Load data"
   ]
  },
  {
   "cell_type": "markdown",
   "id": "5fe90672",
   "metadata": {},
   "source": [
    "Define the path of the data file"
   ]
  },
  {
   "cell_type": "code",
   "execution_count": 2,
   "id": "ecd4a4cf",
   "metadata": {},
   "outputs": [],
   "source": [
    "path = \"ex2-system-a.csv\""
   ]
  },
  {
   "cell_type": "markdown",
   "id": "246e7392",
   "metadata": {},
   "source": [
    "Read the CSV file using `read_csv`"
   ]
  },
  {
   "cell_type": "code",
   "execution_count": 3,
   "id": "623096a5",
   "metadata": {},
   "outputs": [],
   "source": [
    "dataset_a = pd.read_csv(path, sep=\";\", index_col=False, names=[\"0\", \"1\", \"2\", \"3\", \"4\", \"5\", \"6\", \"7\", \"8\", \"9\", \"y_true\"])"
   ]
  },
  {
   "cell_type": "markdown",
   "id": "6f764c56",
   "metadata": {},
   "source": [
    "Display first rows"
   ]
  },
  {
   "cell_type": "code",
   "execution_count": 4,
   "id": "c59a1651",
   "metadata": {},
   "outputs": [
    {
     "data": {
      "text/html": [
       "<div>\n",
       "<style scoped>\n",
       "    .dataframe tbody tr th:only-of-type {\n",
       "        vertical-align: middle;\n",
       "    }\n",
       "\n",
       "    .dataframe tbody tr th {\n",
       "        vertical-align: top;\n",
       "    }\n",
       "\n",
       "    .dataframe thead th {\n",
       "        text-align: right;\n",
       "    }\n",
       "</style>\n",
       "<table border=\"1\" class=\"dataframe\">\n",
       "  <thead>\n",
       "    <tr style=\"text-align: right;\">\n",
       "      <th></th>\n",
       "      <th>0</th>\n",
       "      <th>1</th>\n",
       "      <th>2</th>\n",
       "      <th>3</th>\n",
       "      <th>4</th>\n",
       "      <th>5</th>\n",
       "      <th>6</th>\n",
       "      <th>7</th>\n",
       "      <th>8</th>\n",
       "      <th>9</th>\n",
       "      <th>y_true</th>\n",
       "    </tr>\n",
       "  </thead>\n",
       "  <tbody>\n",
       "    <tr>\n",
       "      <th>0</th>\n",
       "      <td>5.348450e-08</td>\n",
       "      <td>7.493480e-10</td>\n",
       "      <td>8.083470e-07</td>\n",
       "      <td>2.082290e-05</td>\n",
       "      <td>5.222360e-10</td>\n",
       "      <td>2.330260e-08</td>\n",
       "      <td>5.241270e-12</td>\n",
       "      <td>9.999650e-01</td>\n",
       "      <td>4.808590e-07</td>\n",
       "      <td>0.000013</td>\n",
       "      <td>7</td>\n",
       "    </tr>\n",
       "    <tr>\n",
       "      <th>1</th>\n",
       "      <td>1.334270e-03</td>\n",
       "      <td>3.202960e-05</td>\n",
       "      <td>8.504280e-01</td>\n",
       "      <td>1.669090e-03</td>\n",
       "      <td>1.546460e-07</td>\n",
       "      <td>2.412940e-04</td>\n",
       "      <td>1.448280e-01</td>\n",
       "      <td>1.122810e-11</td>\n",
       "      <td>1.456330e-03</td>\n",
       "      <td>0.000011</td>\n",
       "      <td>2</td>\n",
       "    </tr>\n",
       "    <tr>\n",
       "      <th>2</th>\n",
       "      <td>3.643050e-06</td>\n",
       "      <td>9.962760e-01</td>\n",
       "      <td>2.045910e-03</td>\n",
       "      <td>4.210530e-04</td>\n",
       "      <td>2.194020e-05</td>\n",
       "      <td>1.644130e-05</td>\n",
       "      <td>2.838160e-04</td>\n",
       "      <td>3.722960e-04</td>\n",
       "      <td>5.150120e-04</td>\n",
       "      <td>0.000044</td>\n",
       "      <td>1</td>\n",
       "    </tr>\n",
       "    <tr>\n",
       "      <th>3</th>\n",
       "      <td>9.998200e-01</td>\n",
       "      <td>2.550390e-10</td>\n",
       "      <td>1.112010e-05</td>\n",
       "      <td>1.653200e-05</td>\n",
       "      <td>5.375730e-10</td>\n",
       "      <td>8.999750e-05</td>\n",
       "      <td>9.380920e-06</td>\n",
       "      <td>4.464470e-05</td>\n",
       "      <td>2.418440e-06</td>\n",
       "      <td>0.000006</td>\n",
       "      <td>0</td>\n",
       "    </tr>\n",
       "    <tr>\n",
       "      <th>4</th>\n",
       "      <td>2.092460e-08</td>\n",
       "      <td>7.464220e-08</td>\n",
       "      <td>3.560820e-05</td>\n",
       "      <td>5.496200e-07</td>\n",
       "      <td>9.988960e-01</td>\n",
       "      <td>3.070920e-08</td>\n",
       "      <td>2.346150e-04</td>\n",
       "      <td>9.748010e-07</td>\n",
       "      <td>1.071610e-06</td>\n",
       "      <td>0.000831</td>\n",
       "      <td>4</td>\n",
       "    </tr>\n",
       "  </tbody>\n",
       "</table>\n",
       "</div>"
      ],
      "text/plain": [
       "              0             1             2             3             4  \\\n",
       "0  5.348450e-08  7.493480e-10  8.083470e-07  2.082290e-05  5.222360e-10   \n",
       "1  1.334270e-03  3.202960e-05  8.504280e-01  1.669090e-03  1.546460e-07   \n",
       "2  3.643050e-06  9.962760e-01  2.045910e-03  4.210530e-04  2.194020e-05   \n",
       "3  9.998200e-01  2.550390e-10  1.112010e-05  1.653200e-05  5.375730e-10   \n",
       "4  2.092460e-08  7.464220e-08  3.560820e-05  5.496200e-07  9.988960e-01   \n",
       "\n",
       "              5             6             7             8         9  y_true  \n",
       "0  2.330260e-08  5.241270e-12  9.999650e-01  4.808590e-07  0.000013       7  \n",
       "1  2.412940e-04  1.448280e-01  1.122810e-11  1.456330e-03  0.000011       2  \n",
       "2  1.644130e-05  2.838160e-04  3.722960e-04  5.150120e-04  0.000044       1  \n",
       "3  8.999750e-05  9.380920e-06  4.464470e-05  2.418440e-06  0.000006       0  \n",
       "4  3.070920e-08  2.346150e-04  9.748010e-07  1.071610e-06  0.000831       4  "
      ]
     },
     "execution_count": 4,
     "metadata": {},
     "output_type": "execute_result"
    }
   ],
   "source": [
    "dataset_a.head()"
   ]
  },
  {
   "cell_type": "markdown",
   "id": "41f040b0",
   "metadata": {},
   "source": [
    "Store some useful statistics (class names + number of classes)"
   ]
  },
  {
   "cell_type": "code",
   "execution_count": 5,
   "id": "fd0adce4",
   "metadata": {},
   "outputs": [],
   "source": [
    "class_names = [\"0\", \"1\", \"2\", \"3\", \"4\", \"5\", \"6\", \"7\", \"8\", \"9\"]\n",
    "nb_classes = len(class_names)"
   ]
  },
  {
   "cell_type": "markdown",
   "id": "5a0ab85a",
   "metadata": {},
   "source": [
    "## Exercise's steps"
   ]
  },
  {
   "cell_type": "markdown",
   "id": "66ae582e",
   "metadata": {},
   "source": [
    "a) Write a function to take classification decisions on such outputs according to Bayes’rule."
   ]
  },
  {
   "cell_type": "code",
   "execution_count": 28,
   "id": "3c36b377",
   "metadata": {},
   "outputs": [],
   "source": [
    "def bayes_classification(df):\n",
    "    \"\"\"\n",
    "    Take classification decisions according to Bayes rule.\n",
    "        \n",
    "    Parameters\n",
    "    ----------\n",
    "    df : Pandas DataFrame of shape (n_samples, n_features + ground truth)\n",
    "         Dataset.\n",
    "         \n",
    "    Returns\n",
    "    -------\n",
    "    preds : Numpy array of shape (n_samples,)\n",
    "            Class labels for each data sample.\n",
    "    \"\"\"\n",
    "    \n",
    "    # We take all columns except the last one as probabilities\n",
    "    n_classes = df.shape[1] - 1   \n",
    "    # Then we extract the first n_classes columns which contains the predicted probabilities \n",
    "    # (one column per class) for each sample             \n",
    "    probs = df.iloc[:, :n_classes].to_numpy(dtype=float)\n",
    "    # Finally, for each row, we take the index of the maximum probability (the most likely class)  \n",
    "    preds = np.argmax(probs, axis=1)\n",
    "\n",
    "    return preds"
   ]
  },
  {
   "cell_type": "markdown",
   "id": "b5e8140b",
   "metadata": {},
   "source": [
    "b) What is the overall error rate of the system ?"
   ]
  },
  {
   "cell_type": "code",
   "execution_count": 10,
   "id": "f3b21bfb",
   "metadata": {},
   "outputs": [
    {
     "name": "stdout",
     "output_type": "stream",
     "text": [
      "Accuracy: 0.8927\n",
      "Error rate 1: 0.1073\n",
      "Error rate 2: 0.1073\n"
     ]
    }
   ],
   "source": [
    "# Your code here: compute and print the error rate of the system\n",
    "classification = bayes_classification(dataset_a)\n",
    "\n",
    "accuracy = np.mean(classification == dataset_a[\"y_true\"].to_numpy())\n",
    "error_rate_1 = 1 - accuracy\n",
    "\n",
    "error_rate_2 = np.mean(classification != dataset_a[\"y_true\"].to_numpy())\n",
    "\n",
    "print(f\"Accuracy: {accuracy:.4f}\")\n",
    "print(f\"Error rate 1: {error_rate_1:.4f}\")\n",
    "print(f\"Error rate 2: {error_rate_2:.4f}\")\n"
   ]
  },
  {
   "cell_type": "markdown",
   "id": "a4f0fa5f",
   "metadata": {},
   "source": [
    "c) Compute and report the confusion matrix of the system."
   ]
  },
  {
   "cell_type": "code",
   "execution_count": 12,
   "id": "bb106415",
   "metadata": {},
   "outputs": [],
   "source": [
    "def confusion_matrix(y_true, y_pred, n_classes):\n",
    "    \"\"\"\n",
    "    Compute the confusion matrix.\n",
    "        \n",
    "    Parameters\n",
    "    ----------\n",
    "    y_true : Numpy array of shape (n_samples,)\n",
    "             Ground truth.\n",
    "    y_pred : Numpy array of shape (n_samples,)\n",
    "             Predictions.\n",
    "    n_classes : Integer\n",
    "                Number of classes.\n",
    "         \n",
    "    Returns\n",
    "    -------\n",
    "    cm : Numpy array of shape (n_classes, n_classes)\n",
    "         Confusion matrix.\n",
    "    \"\"\"\n",
    "    # Your code here\n",
    "    cm = np.zeros((n_classes, n_classes), dtype=int)\n",
    "    \n",
    "    for true,pred in zip(y_true, y_pred):\n",
    "        # Here we increment the cell corresponding to (true class, predicted class)\n",
    "        cm[true, pred] += 1\n",
    "\n",
    "    return cm"
   ]
  },
  {
   "cell_type": "code",
   "execution_count": null,
   "id": "1b38e3a8",
   "metadata": {},
   "outputs": [
    {
     "name": "stdout",
     "output_type": "stream",
     "text": [
      "Confusion Matrix:\n",
      "[[ 944    0   11    0    0    2   10    7    5    1]\n",
      " [   0 1112    2    3    1    4    3    1    9    0]\n",
      " [  10    6  921   12   15    3   19   15   26    5]\n",
      " [   1    1   31  862    2   72    5   14   12   10]\n",
      " [   2    3    6    2  910    1   12    6    4   36]\n",
      " [  12    3    6   29   19  768   19    9   21    6]\n",
      " [  14    3   21    2   22   28  865    0    3    0]\n",
      " [   0   14   30    9    7    2    1  929    3   33]\n",
      " [  12   16   18   26   24   46   22   19  772   19]\n",
      " [  10    4    6   22   53   18    0   48    4  844]]\n"
     ]
    }
   ],
   "source": [
    "# Your code here: compute and print the confusion matrix\n",
    "\n",
    "cm = confusion_matrix(dataset_a[\"y_true\"].to_numpy(), classification, nb_classes)\n",
    "print(\"Confusion Matrix:\")\n",
    "print(cm)"
   ]
  },
  {
   "cell_type": "markdown",
   "id": "ed8db908",
   "metadata": {},
   "source": [
    "d) What are the worst and best classes in terms of precision and recall ?"
   ]
  },
  {
   "cell_type": "code",
   "execution_count": 17,
   "id": "0e229ce0",
   "metadata": {},
   "outputs": [],
   "source": [
    "def precision_per_class(cm):\n",
    "    \"\"\"\n",
    "    Compute the precision per class.\n",
    "        \n",
    "    Parameters\n",
    "    ----------\n",
    "    cm : Numpy array of shape (n_classes, n_classes)\n",
    "         Confusion matrix.\n",
    "         \n",
    "    Returns\n",
    "    -------\n",
    "    precisions : Numpy array of shape (n_classes,)\n",
    "                 Precision per class.\n",
    "    \"\"\"\n",
    "    \n",
    "    # axis 0 = sum over columns \n",
    "    return np.diag(cm) / np.sum(cm, axis=0)"
   ]
  },
  {
   "cell_type": "code",
   "execution_count": 16,
   "id": "95325772",
   "metadata": {},
   "outputs": [],
   "source": [
    "def recall_per_class(cm):\n",
    "    \"\"\"\n",
    "    Compute the recall per class.\n",
    "        \n",
    "    Parameters\n",
    "    ----------\n",
    "    cm : Numpy array of shape (n_classes, n_classes)\n",
    "         Confusion matrix.\n",
    "         \n",
    "    Returns\n",
    "    -------\n",
    "    recalls : Numpy array of shape (n_classes,)\n",
    "              Recall per class.\n",
    "    \"\"\"\n",
    "    # axis 1 = sum over rows\n",
    "    return np.diag(cm) / np.sum(cm, axis=1)"
   ]
  },
  {
   "cell_type": "code",
   "execution_count": 20,
   "id": "a0fb19e3",
   "metadata": {},
   "outputs": [
    {
     "name": "stdout",
     "output_type": "stream",
     "text": [
      "Class 0: Precision = 0.9393\n",
      "Class 1: Precision = 0.9570\n",
      "Class 2: Precision = 0.8755\n",
      "Class 3: Precision = 0.8914\n",
      "Class 4: Precision = 0.8642\n",
      "Class 5: Precision = 0.8136\n",
      "Class 6: Precision = 0.9048\n",
      "Class 7: Precision = 0.8865\n",
      "Class 8: Precision = 0.8987\n",
      "Class 9: Precision = 0.8847\n",
      "Best class: 1 with precision 0.9570\n",
      "Worst class: 5 with precision 0.8136\n"
     ]
    }
   ],
   "source": [
    "# Your code here: find and print the worst and best classes in terms of precision\n",
    "\n",
    "precisions = precision_per_class(cm)\n",
    "for i, p in enumerate(precisions):\n",
    "    print(f\"Class {i}: Precision = {p:.4f}\")\n",
    "best_class = np.argmax(precisions)\n",
    "worst_class = np.argmin(precisions)\n",
    "print(f\"Best class: {best_class} with precision {precisions[best_class]:.4f}\")\n",
    "print(f\"Worst class: {worst_class} with precision {precisions[worst_class]:.4f}\")"
   ]
  },
  {
   "cell_type": "code",
   "execution_count": 21,
   "id": "42c3edd8",
   "metadata": {},
   "outputs": [
    {
     "name": "stdout",
     "output_type": "stream",
     "text": [
      "Class 0: Recall = 0.9633\n",
      "Class 1: Recall = 0.9797\n",
      "Class 2: Recall = 0.8924\n",
      "Class 3: Recall = 0.8535\n",
      "Class 4: Recall = 0.9267\n",
      "Class 5: Recall = 0.8610\n",
      "Class 6: Recall = 0.9029\n",
      "Class 7: Recall = 0.9037\n",
      "Class 8: Recall = 0.7926\n",
      "Class 9: Recall = 0.8365\n",
      "Best class: 1 with recall 0.9797\n",
      "Worst class: 8 with recall 0.7926\n"
     ]
    }
   ],
   "source": [
    "# Your code here: find and print the worst and best classes in terms of recall\n",
    "\n",
    "recall = recall_per_class(cm)\n",
    "for i, r in enumerate(recall):\n",
    "    print(f\"Class {i}: Recall = {r:.4f}\")\n",
    "best_class = np.argmax(recall)\n",
    "worst_class = np.argmin(recall)\n",
    "print(f\"Best class: {best_class} with recall {recall[best_class]:.4f}\")\n",
    "print(f\"Worst class: {worst_class} with recall {recall[worst_class]:.4f}\")\n"
   ]
  },
  {
   "cell_type": "markdown",
   "id": "7ac6fe5d",
   "metadata": {},
   "source": [
    "e) In file `ex1-system-b.csv` you find the output of a second system B. What is the best system between (a) and (b) in terms of error rate and F1."
   ]
  },
  {
   "cell_type": "code",
   "execution_count": 22,
   "id": "b98c2545",
   "metadata": {},
   "outputs": [
    {
     "name": "stdout",
     "output_type": "stream",
     "text": [
      "Confusion Matrix for system B:\n",
      "[[ 963    0    4    1    0    2    6    2    2    0]\n",
      " [   0 1123    3    1    0    0    5    1    2    0]\n",
      " [   5    0  996    7    4    0    4    8    6    2]\n",
      " [   0    0   13  985    0    3    1    3    3    2]\n",
      " [   1    2    4    0  938    1    9    2    5   20]\n",
      " [   8    1    0   27    1  830   12    1    8    4]\n",
      " [   6    3    2    1    7    4  930    1    4    0]\n",
      " [   0    7   18   10    3    1    0  981    0    8]\n",
      " [   7    1    7   19    5    7    4    7  912    5]\n",
      " [   3    4    1   14   11    6    2    8    5  955]]\n"
     ]
    }
   ],
   "source": [
    "# Your code here: load the data of the system B\n",
    "\n",
    "path = \"ex2-system-b.csv\"\n",
    "dataset_b = pd.read_csv(path, sep=\";\", index_col=False, names=[\"0\", \"1\", \"2\", \"3\", \"4\", \"5\", \"6\", \"7\", \"8\", \"9\", \"y_true\"])\n",
    "\n",
    "confusion_sb = confusion_matrix(dataset_b[\"y_true\"].to_numpy(), bayes_classification(dataset_b), nb_classes)\n",
    "print(\"Confusion Matrix for system B:\")\n",
    "print(confusion_sb)"
   ]
  },
  {
   "cell_type": "code",
   "execution_count": 25,
   "id": "050091b9",
   "metadata": {},
   "outputs": [],
   "source": [
    "def system_accuracy(cm):\n",
    "    \"\"\"\n",
    "    Compute the system accuracy.\n",
    "        \n",
    "    Parameters\n",
    "    ----------\n",
    "    cm : Numpy array of shape (n_classes, n_classes)\n",
    "         Confusion matrix.\n",
    "         \n",
    "    Returns\n",
    "    -------\n",
    "    accuracy : Float\n",
    "               Accuracy of the system.\n",
    "    \"\"\"\n",
    "    # Your code here\n",
    "    # np.trace(cm) gives the sum of the diagonal elements \n",
    "    accuracy = np.trace(cm) / np.sum(cm)\n",
    "    return accuracy"
   ]
  },
  {
   "cell_type": "code",
   "execution_count": 24,
   "id": "adc0f138",
   "metadata": {},
   "outputs": [],
   "source": [
    "def system_f1_score(cm):\n",
    "    \"\"\"\n",
    "    Compute the system F1 score.\n",
    "        \n",
    "    Parameters\n",
    "    ----------\n",
    "    cm : Numpy array of shape (n_classes, n_classes)\n",
    "         Confusion matrix.\n",
    "         \n",
    "    Returns\n",
    "    -------\n",
    "    f1_score : Float\n",
    "               F1 score of the system.\n",
    "    \"\"\"\n",
    "    # Your code here\n",
    "    precision = precision_per_class(cm)\n",
    "    recall = recall_per_class(cm)\n",
    "    F1_score = 2 * (precision * recall) / (precision + recall)\n",
    "    return F1_score.mean()"
   ]
  },
  {
   "cell_type": "code",
   "execution_count": 26,
   "id": "f1385c87",
   "metadata": {},
   "outputs": [
    {
     "name": "stdout",
     "output_type": "stream",
     "text": [
      "System A - Accuracy: 0.8927, F1 Score: 0.8907\n"
     ]
    }
   ],
   "source": [
    "# Your code here: compute and print the accuracy and the F1 score of the system A\n",
    "\n",
    "accuracy_a = system_accuracy(cm)\n",
    "f1_score_a = system_f1_score(cm)\n",
    "print(f\"System A - Accuracy: {accuracy_a:.4f}, F1 Score: {f1_score_a:.4f}\")\n",
    "\n"
   ]
  },
  {
   "cell_type": "code",
   "execution_count": 27,
   "id": "50c64d08",
   "metadata": {},
   "outputs": [
    {
     "name": "stdout",
     "output_type": "stream",
     "text": [
      "System B - Accuracy: 0.9613, F1 Score: 0.9609\n"
     ]
    }
   ],
   "source": [
    "# Your code here: compute and print the accuracy and the F1 score of the system B\n",
    "\n",
    "accuracy_b = system_accuracy(confusion_sb)\n",
    "f1_score_b = system_f1_score(confusion_sb)\n",
    "print(f\"System B - Accuracy: {accuracy_b:.4f}, F1 Score: {f1_score_b:.4f}\")"
   ]
  }
 ],
 "metadata": {
  "kernelspec": {
   "display_name": "base",
   "language": "python",
   "name": "python3"
  },
  "language_info": {
   "codemirror_mode": {
    "name": "ipython",
    "version": 3
   },
   "file_extension": ".py",
   "mimetype": "text/x-python",
   "name": "python",
   "nbconvert_exporter": "python",
   "pygments_lexer": "ipython3",
   "version": "3.11.7"
  }
 },
 "nbformat": 4,
 "nbformat_minor": 5
}
