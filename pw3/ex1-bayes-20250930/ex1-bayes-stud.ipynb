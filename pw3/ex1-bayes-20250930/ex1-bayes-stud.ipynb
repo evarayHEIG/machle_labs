{
 "cells": [
  {
   "cell_type": "markdown",
   "metadata": {},
   "source": [
    "##### Authors: Rafael Dousse, Eva Ray, Massimo Stefani"
   ]
  },
  {
   "cell_type": "markdown",
   "metadata": {
    "collapsed": true
   },
   "source": [
    "## Exercise 1 - Bayes classification system"
   ]
  },
  {
   "cell_type": "code",
   "metadata": {
    "ExecuteTime": {
     "end_time": "2025-10-05T18:05:21.323918Z",
     "start_time": "2025-10-05T18:05:21.319738Z"
    }
   },
   "source": [
    "# Import some useful libraries\n",
    "\n",
    "import math\n",
    "\n",
    "import matplotlib.pyplot as plt\n",
    "import numpy as np\n",
    "import pandas as pd\n",
    "from sklearn.model_selection import train_test_split\n",
    "from sklearn.preprocessing import OrdinalEncoder, StandardScaler"
   ],
   "outputs": [],
   "execution_count": 2
  },
  {
   "cell_type": "markdown",
   "metadata": {},
   "source": [
    "## 1a. Getting started with Bayes"
   ]
  },
  {
   "cell_type": "markdown",
   "metadata": {},
   "source": [
    "a) Read the training data from file ex1-data-train.csv. The first two columns are x1 and x2. The last column holds the class label y."
   ]
  },
  {
   "cell_type": "code",
   "metadata": {
    "pycharm": {
     "is_executing": false
    },
    "ExecuteTime": {
     "end_time": "2025-10-05T18:05:21.353602Z",
     "start_time": "2025-10-05T18:05:21.349548Z"
    }
   },
   "source": [
    "def read_data(file):\n",
    "    dataset = pd.read_csv(file, names=['x1','x2','y'])\n",
    "    print(dataset.head())\n",
    "    return dataset[[\"x1\", \"x2\"]], dataset[\"y\"].values"
   ],
   "outputs": [],
   "execution_count": 3
  },
  {
   "cell_type": "code",
   "metadata": {
    "ExecuteTime": {
     "end_time": "2025-10-05T18:05:21.382773Z",
     "start_time": "2025-10-05T18:05:21.369653Z"
    }
   },
   "source": [
    "X_train, y_train = read_data(\"ex1-data-train.csv\")"
   ],
   "outputs": [
    {
     "name": "stdout",
     "output_type": "stream",
     "text": [
      "          x1         x2  y\n",
      "0  34.623660  78.024693  0\n",
      "1  30.286711  43.894998  0\n",
      "2  35.847409  72.902198  0\n",
      "3  60.182599  86.308552  1\n",
      "4  79.032736  75.344376  1\n"
     ]
    }
   ],
   "execution_count": 4
  },
  {
   "cell_type": "code",
   "metadata": {
    "ExecuteTime": {
     "end_time": "2025-10-05T18:05:21.433771Z",
     "start_time": "2025-10-05T18:05:21.430399Z"
    }
   },
   "source": [
    "# Prepare a function to compute accuracy\n",
    "def accuracy_score(y_true, y_pred):\n",
    "    return (y_true == y_pred).sum() / y_true.size"
   ],
   "outputs": [],
   "execution_count": 5
  },
  {
   "cell_type": "markdown",
   "metadata": {},
   "source": [
    "b) Compute the priors of both classes P(C0) and P(C1)"
   ]
  },
  {
   "cell_type": "code",
   "metadata": {
    "pycharm": {
     "is_executing": false
    },
    "ExecuteTime": {
     "end_time": "2025-10-05T18:05:21.463443Z",
     "start_time": "2025-10-05T18:05:21.458666Z"
    }
   },
   "source": [
    "# TODO: Compute the priors\n",
    "prior_c0 = y_train[y_train == 0].size / y_train.size\n",
    "prior_c1 = y_train[y_train == 1].size / y_train.size\n",
    "print(f\"P(C0) = {prior_c0}, P(C1) = {prior_c1}\")"
   ],
   "outputs": [
    {
     "name": "stdout",
     "output_type": "stream",
     "text": [
      "P(C0) = 0.4, P(C1) = 0.6\n"
     ]
    }
   ],
   "execution_count": 6
  },
  {
   "cell_type": "markdown",
   "metadata": {},
   "source": [
    "c) Compute histograms of x1 and x2 for each class (total of 4 histograms). Plot these histograms. Advice : use the numpy `histogram(a, bins=\"auto\")` function."
   ]
  },
  {
   "cell_type": "code",
   "metadata": {
    "pycharm": {
     "is_executing": false
    },
    "ExecuteTime": {
     "end_time": "2025-10-05T18:05:21.729479Z",
     "start_time": "2025-10-05T18:05:21.498399Z"
    }
   },
   "source": [
    "# Separate x1 and x2 by class\n",
    "x1_class0 = X_train[y_train == 0][\"x1\"]\n",
    "x1_class1 = X_train[y_train == 1][\"x1\"]\n",
    "\n",
    "x2_class0 = X_train[y_train == 0][\"x2\"]\n",
    "x2_class1 = X_train[y_train == 1][\"x2\"]\n",
    "\n",
    "# TODO: Compute histograms\n",
    "hist_x1_class0, bins_x1_c0 = np.histogram(x1_class0, bins=\"auto\")\n",
    "hist_x1_class1, bins_x1_c1 = np.histogram(x1_class1, bins=\"auto\")\n",
    "\n",
    "hist_x2_class0, bins_x2_c0 = np.histogram(x2_class0, bins=\"auto\")\n",
    "hist_x2_class1, bins_x2_c1 = np.histogram(x2_class1, bins=\"auto\")\n",
    "\n",
    "# TODO: plot histograms\n",
    "plt.figure(figsize=(16,6))\n",
    "\n",
    "# Exam 1 histograms\n",
    "plt.subplot(1, 2, 1)\n",
    "plt.hist(x1_class0, bins=bins_x1_c0, alpha=0.5, label=\"C0\")\n",
    "plt.hist(x1_class1, bins=bins_x1_c1, alpha=0.5, label=\"C1\")\n",
    "plt.xlabel('Likelihood hist - Exam 1')\n",
    "plt.legend()\n",
    "\n",
    "# Exam 2 histograms\n",
    "plt.subplot(1, 2, 2)\n",
    "plt.hist(x2_class0, bins=bins_x2_c0, alpha=0.5, label=\"C0\")\n",
    "plt.hist(x2_class1, bins=bins_x2_c1, alpha=0.5, label=\"C1\")\n",
    "plt.xlabel('Likelihood hist - Exam 2')\n",
    "plt.legend()\n",
    "\n",
    "plt.show()"
   ],
   "outputs": [
    {
     "data": {
      "text/plain": [
       "<Figure size 1600x600 with 2 Axes>"
      ],
      "image/png": "[encoded data removed]"
     },
     "metadata": {},
     "output_type": "display_data",
     "jetTransient": {
      "display_id": null
     }
    }
   ],
   "execution_count": 7
  },
  {
   "cell_type": "markdown",
   "metadata": {},
   "source": [
    "d) Use the histograms to compute the likelihoods p(x1|C0), p(x1|C1), p(x2|C0) and p(x2|C1). For this define a function `likelihood_hist(x, hist_values, edge_values)` that returns the likelihood of x for a given histogram (defined by its values and bin edges as returned by the numpy `histogram()` function)."
   ]
  },
  {
   "cell_type": "code",
   "metadata": {
    "pycharm": {
     "is_executing": false
    },
    "ExecuteTime": {
     "end_time": "2025-10-05T18:05:21.745967Z",
     "start_time": "2025-10-05T18:05:21.742425Z"
    }
   },
   "source": [
    "def likelihood_hist(x: float, hist_values: np.ndarray, bin_edges: np.ndarray) -> float:\n",
    "    # TODO: compute likelihoods from histograms outputs\n",
    "\n",
    "    # Find the bin index for x\n",
    "    bin = np.digitize(x, bin_edges) - 1\n",
    "\n",
    "    if bin < 0 or bin >= len(hist_values):\n",
    "        return 0.0\n",
    "\n",
    "    return hist_values[bin] / hist_values.sum()"
   ],
   "outputs": [],
   "execution_count": 8
  },
  {
   "cell_type": "markdown",
   "metadata": {},
   "source": [
    "e) Implement the classification decision according to Bayes rule and compute the overall accuracy of the system on the test set ex1-data-test.csv. :\n",
    "- using only feature x1\n",
    "- using only feature x2\n",
    "- using x1 and x2 making the naive Bayes hypothesis of feature independence, i.e. p(X|Ck) = p(x1|Ck) · p(x2|Ck)"
   ]
  },
  {
   "cell_type": "code",
   "metadata": {
    "pycharm": {
     "is_executing": false
    },
    "ExecuteTime": {
     "end_time": "2025-10-05T18:05:21.785491Z",
     "start_time": "2025-10-05T18:05:21.775844Z"
    }
   },
   "source": [
    "X_test, y_test = read_data(\"ex1-data-test.csv\")"
   ],
   "outputs": [
    {
     "name": "stdout",
     "output_type": "stream",
     "text": [
      "          x1         x2  y\n",
      "0  39.196334  78.530294  0\n",
      "1  40.448499  86.839470  1\n",
      "2  65.571920  44.303497  0\n",
      "3  79.648113  70.806564  1\n",
      "4  66.260221  41.672703  0\n"
     ]
    }
   ],
   "execution_count": 9
  },
  {
   "cell_type": "code",
   "metadata": {
    "pycharm": {
     "is_executing": false
    },
    "ExecuteTime": {
     "end_time": "2025-10-05T18:05:21.840622Z",
     "start_time": "2025-10-05T18:05:21.830416Z"
    }
   },
   "source": [
    "# TODO: predict on test set in the 3 cases described above\n",
    "\n",
    "# Using only x1\n",
    "\n",
    "y_pred_x1 = []\n",
    "\n",
    "for x in X_test[\"x1\"]:\n",
    "    likelihood_c0 = likelihood_hist(x, hist_x1_class0, bins_x1_c0) * prior_c0\n",
    "    likelihood_c1 = likelihood_hist(x, hist_x1_class1, bins_x1_c1) * prior_c1\n",
    "\n",
    "    if likelihood_c0 > likelihood_c1:\n",
    "        y_pred_x1.append(0)\n",
    "    else:\n",
    "        y_pred_x1.append(1)\n",
    "\n",
    "print(f\"The accuracy using only x1 is: {accuracy_score(y_test, y_pred_x1)}\")"
   ],
   "outputs": [
    {
     "name": "stdout",
     "output_type": "stream",
     "text": [
      "The accuracy using only x1 is: 0.64\n"
     ]
    }
   ],
   "execution_count": 10
  },
  {
   "cell_type": "code",
   "metadata": {
    "ExecuteTime": {
     "end_time": "2025-10-05T18:05:21.871620Z",
     "start_time": "2025-10-05T18:05:21.862875Z"
    }
   },
   "source": [
    "# Using only x2\n",
    "\n",
    "y_pred_x2 = []\n",
    "\n",
    "for x in X_test[\"x2\"]:\n",
    "    likelihood_c0 = likelihood_hist(x, hist_x2_class0, bins_x2_c0) * prior_c0\n",
    "    likelihood_c1 = likelihood_hist(x, hist_x2_class1, bins_x2_c1) * prior_c1\n",
    "\n",
    "    if likelihood_c0 > likelihood_c1:\n",
    "        y_pred_x2.append(0)\n",
    "    else:\n",
    "        y_pred_x2.append(1)\n",
    "\n",
    "print(f\"The accuracy using only x2 is: {accuracy_score(y_test, y_pred_x2)}\")"
   ],
   "outputs": [
    {
     "name": "stdout",
     "output_type": "stream",
     "text": [
      "The accuracy using only x2 is: 0.72\n"
     ]
    }
   ],
   "execution_count": 11
  },
  {
   "cell_type": "code",
   "metadata": {
    "ExecuteTime": {
     "end_time": "2025-10-05T18:05:21.931750Z",
     "start_time": "2025-10-05T18:05:21.922007Z"
    }
   },
   "source": [
    "# Using both x1 and x2\n",
    "\n",
    "y_pred_x1_x2 = []\n",
    "\n",
    "for x1, x2 in zip(X_test[\"x1\"], X_test[\"x2\"]):\n",
    "    likelihood_c0 = (likelihood_hist(x1, hist_x1_class0, bins_x1_c0) *\n",
    "                     likelihood_hist(x2, hist_x2_class0, bins_x2_c0) * prior_c0)\n",
    "    likelihood_c1 = (likelihood_hist(x1, hist_x1_class1, bins_x1_c1) *\n",
    "                     likelihood_hist(x2, hist_x2_class1, bins_x2_c1) * prior_c1)\n",
    "\n",
    "    if likelihood_c0 > likelihood_c1:\n",
    "        y_pred_x1_x2.append(0)\n",
    "    else:\n",
    "        y_pred_x1_x2.append(1)\n",
    "\n",
    "print(f\"The accuracy using x1 and x2 is: {accuracy_score(y_test, y_pred_x1_x2)}\")"
   ],
   "outputs": [
    {
     "name": "stdout",
     "output_type": "stream",
     "text": [
      "The accuracy using x1 and x2 is: 0.83\n"
     ]
    }
   ],
   "execution_count": 12
  },
  {
   "cell_type": "markdown",
   "metadata": {},
   "source": [
    "Which system is the best ?"
   ]
  },
  {
   "cell_type": "markdown",
   "metadata": {},
   "source": [
    "We get the accuracies:\n",
    "\n",
    "| Using only x1 | Using only x2 | Using x1 and x2 |\n",
    "|---------------|---------------|-----------------|\n",
    "| 0.64          | 0.72          | 0.83            |\n",
    "\n",
    "Thus, the best system is the one using both features x1 and x2. It makes sense since we have more meaningful information to classify the samples."
   ]
  },
  {
   "cell_type": "markdown",
   "metadata": {},
   "source": [
    "## 1b. Bayes - Univariate Gaussian distribution"
   ]
  },
  {
   "cell_type": "markdown",
   "metadata": {},
   "source": [
    "Do the same as in a) but this time using univariate Gaussian distribution to model the likelihoods p(x1|C0), p(x1|C1), p(x2|C0) and p(x2|C1). You may use the numpy functions `mean()` and `var()` to compute the mean μ and variance σ2 of the distribution. To model the likelihood of both features, you may also do the naive Bayes hypothesis of feature independence, i.e. p(X|Ck) = p(x1|Ck) · p(x2|Ck).\n"
   ]
  },
  {
   "cell_type": "code",
   "metadata": {
    "pycharm": {
     "is_executing": false
    },
    "ExecuteTime": {
     "end_time": "2025-10-05T18:05:21.958997Z",
     "start_time": "2025-10-05T18:05:21.955622Z"
    }
   },
   "source": [
    "def likelihood_univariate_gaussian(x: float, mean: float, var: float) -> float:\n",
    "    # TODO: compute likelihoods from histograms outputs\n",
    "\n",
    "    return (1.0 / np.sqrt(2 * np.pi * var)) * np.exp(-((x - mean) ** 2) / (2 * var))"
   ],
   "outputs": [],
   "execution_count": 13
  },
  {
   "cell_type": "code",
   "metadata": {
    "pycharm": {
     "is_executing": false
    },
    "ExecuteTime": {
     "end_time": "2025-10-05T18:05:21.989249Z",
     "start_time": "2025-10-05T18:05:21.984552Z"
    }
   },
   "source": [
    "# TODO: Compute mean and variance for each classes and each features (8 values)\n",
    "\n",
    "var_x1_class0 = np.var(x1_class0)\n",
    "mean_x1_class0 = np.mean(x1_class0)\n",
    "\n",
    "var_x1_class1 = np.var(x1_class1)\n",
    "mean_x1_class1 = np.mean(x1_class1)\n",
    "\n",
    "var_x2_class0 = np.var(x2_class0)\n",
    "mean_x2_class0 = np.mean(x2_class0)\n",
    "\n",
    "var_x2_class1 = np.var(x2_class1)\n",
    "mean_x2_class1 = np.mean(x2_class1)\n"
   ],
   "outputs": [],
   "execution_count": 14
  },
  {
   "cell_type": "code",
   "metadata": {
    "ExecuteTime": {
     "end_time": "2025-10-05T18:05:22.006640Z",
     "start_time": "2025-10-05T18:05:21.997343Z"
    }
   },
   "source": [
    "# TODO: predict on test set in the 3 cases\n",
    "y_pred_x1 = []\n",
    "y_pred_x2 = []\n",
    "y_pred_both = []\n",
    "\n",
    "for x1, x2 in zip(X_test[\"x1\"], X_test[\"x2\"]):\n",
    "    # only x1\n",
    "    likelihood_c0_x1 = likelihood_univariate_gaussian(x1, mean_x1_class0, var_x1_class0) * prior_c0\n",
    "    likelihood_c1_x1 = likelihood_univariate_gaussian(x1, mean_x1_class1, var_x1_class1) * prior_c1\n",
    "    y_pred_x1.append(0 if likelihood_c0_x1 > likelihood_c1_x1 else 1)\n",
    "\n",
    "    # only x2\n",
    "    likelihood_c0_x2 = likelihood_univariate_gaussian(x2, mean_x2_class0, var_x2_class0) * prior_c0\n",
    "    likelihood_c1_x2 = likelihood_univariate_gaussian(x2, mean_x2_class1, var_x2_class1) * prior_c1\n",
    "    y_pred_x2.append(0 if likelihood_c0_x2 > likelihood_c1_x2 else 1)\n",
    "\n",
    "    # with x1 and x2 (naïve Bayes)\n",
    "    likelihood_c0_both = (likelihood_univariate_gaussian(x1, mean_x1_class0, var_x1_class0) *\n",
    "                          likelihood_univariate_gaussian(x2, mean_x2_class0, var_x2_class0) * prior_c0)\n",
    "    likelihood_c1_both = (likelihood_univariate_gaussian(x1, mean_x1_class1, var_x1_class1) *\n",
    "                          likelihood_univariate_gaussian(x2, mean_x2_class1, var_x2_class1) * prior_c1)\n",
    "    y_pred_both.append(0 if likelihood_c0_both > likelihood_c1_both else 1)\n",
    "\n",
    "\n",
    "# Accuracy \n",
    "acc_x1 = accuracy_score(y_test, y_pred_x1)\n",
    "acc_x2 = accuracy_score(y_test, y_pred_x2)\n",
    "acc_both = accuracy_score(y_test, y_pred_both)\n",
    "\n",
    "print(f\"Accuracy using x1 only: {acc_x1:.3f}\")\n",
    "print(f\"Accuracy using x2 only: {acc_x2:.3f}\")\n",
    "print(f\"Accuracy using both x1 and x2: {acc_both:.3f}\")\n"
   ],
   "outputs": [
    {
     "name": "stdout",
     "output_type": "stream",
     "text": [
      "Accuracy using x1 only: 0.710\n",
      "Accuracy using x2 only: 0.720\n",
      "Accuracy using both x1 and x2: 0.890\n"
     ]
    }
   ],
   "execution_count": 15
  }
 ],
 "metadata": {
  "kernelspec": {
   "display_name": "base",
   "language": "python",
   "name": "python3"
  },
  "language_info": {
   "codemirror_mode": {
    "name": "ipython",
    "version": 3
   },
   "file_extension": ".py",
   "mimetype": "text/x-python",
   "name": "python",
   "nbconvert_exporter": "python",
   "pygments_lexer": "ipython3",
   "version": "3.11.7"
  },
  "pycharm": {
   "stem_cell": {
    "cell_type": "raw",
    "metadata": {
     "collapsed": false
    },
    "source": []
   }
  }
 },
 "nbformat": 4,
 "nbformat_minor": 1
}
